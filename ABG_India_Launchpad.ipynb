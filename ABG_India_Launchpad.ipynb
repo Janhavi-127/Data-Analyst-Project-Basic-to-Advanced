{
  "nbformat": 4,
  "nbformat_minor": 0,
  "metadata": {
    "colab": {
      "provenance": [],
      "authorship_tag": "ABX9TyNPcE6936E2ycatjMhMCisV",
      "include_colab_link": true
    },
    "kernelspec": {
      "name": "python3",
      "display_name": "Python 3"
    },
    "language_info": {
      "name": "python"
    }
  },
  "cells": [
    {
      "cell_type": "markdown",
      "metadata": {
        "id": "view-in-github",
        "colab_type": "text"
      },
      "source": [
        "<a href=\"https://colab.research.google.com/github/Janhavi-127/Data-Analyst-Project-Basic-to-Advanced/blob/main/ABG_India_Launchpad.ipynb\" target=\"_parent\"><img src=\"https://colab.research.google.com/assets/colab-badge.svg\" alt=\"Open In Colab\"/></a>"
      ]
    },
    {
      "cell_type": "markdown",
      "source": [
        "Step 1: Data Understanding and Preparation"
      ],
      "metadata": {
        "id": "Nxyf5LVlvh7m"
      }
    },
    {
      "cell_type": "markdown",
      "source": [
        "1.1 Load Data"
      ],
      "metadata": {
        "id": "63ybpfVVvpGY"
      }
    },
    {
      "cell_type": "code",
      "source": [
        "import pandas as pd"
      ],
      "metadata": {
        "id": "vZYRecmQvkzM"
      },
      "execution_count": null,
      "outputs": []
    },
    {
      "cell_type": "code",
      "source": [
        "# Load the Indian dataset\n",
        "df_india = pd.read_csv('IN_Data.csv')\n",
        "\n",
        "# Load the Japanese dataset\n",
        "df_japan = pd.read_csv('JPN Data.csv')"
      ],
      "metadata": {
        "id": "0aj6ItZvwJc9"
      },
      "execution_count": null,
      "outputs": []
    },
    {
      "cell_type": "markdown",
      "source": [
        "1.2 Exploratory Data Analysis (EDA)"
      ],
      "metadata": {
        "id": "E_IQGgZAyRQT"
      }
    },
    {
      "cell_type": "code",
      "source": [
        "# For Indian Dataset  (repeat similar steps for Japanese Dataset)\n",
        "# Display basic information about the Indian dataset\n",
        "\n",
        "print(\"\\n--- Indian Dataset Overview ---\")\n",
        "\n",
        "print(\"Shape (rows, columns):\", df_india.shape)\n",
        "print(\"\\nFirst 5 rows:\")\n",
        "print(df_india.head())\n",
        "print(\"\\nColumn information (data types, non-null counts):\")\n",
        "print(df_india.info())\n",
        "print(\"\\nMissing values count per column:\")\n",
        "print(df_india.isnull().sum())\n",
        "print(\"\\nSummary statistics for numerical columns:\")\n",
        "print(df_india.describe())\n",
        "\n",
        "# Example for unique values and value counts for a hypothetical 'Gender' column\n",
        "# (Replace 'Gender' with actual column names from your dataset)\n",
        "if 'Gender' in df_india.columns:\n",
        "    print(\"\\nUnique values in 'Gender' column:\")\n",
        "    print(df_india['Gender'].unique())\n",
        "    print(\"\\nValue counts for 'Gender' column:\")\n",
        "    print(df_india['Gender'].value_counts())"
      ],
      "metadata": {
        "colab": {
          "base_uri": "https://localhost:8080/"
        },
        "id": "9cCMGyJiyWsO",
        "outputId": "fa94b60a-6f1a-4a4e-e54f-f972de5a6d78"
      },
      "execution_count": null,
      "outputs": [
        {
          "output_type": "stream",
          "name": "stdout",
          "text": [
            "\n",
            "--- Indian Dataset Overview ---\n",
            "Shape (rows, columns): (70000, 5)\n",
            "\n",
            "First 5 rows:\n",
            "           ID  CURR_AGE GENDER   ANN_INCOME   DT_MAINT\n",
            "0  20710B05XL        54      M   1,425,390   4/20/2018\n",
            "1  89602T51HX        47      M   1,678,954    6/8/2018\n",
            "2  70190Z52IP        60      M     931,624   7/31/2017\n",
            "3  25623V15MU        55      F   1,106,320   7/31/2017\n",
            "4  36230I68CE        32      F     748,465   1/27/2019\n",
            "\n",
            "Column information (data types, non-null counts):\n",
            "<class 'pandas.core.frame.DataFrame'>\n",
            "RangeIndex: 70000 entries, 0 to 69999\n",
            "Data columns (total 5 columns):\n",
            " #   Column      Non-Null Count  Dtype \n",
            "---  ------      --------------  ----- \n",
            " 0   ID          70000 non-null  object\n",
            " 1   CURR_AGE    70000 non-null  int64 \n",
            " 2   GENDER      70000 non-null  object\n",
            " 3   ANN_INCOME  70000 non-null  object\n",
            " 4   DT_MAINT    70000 non-null  object\n",
            "dtypes: int64(1), object(4)\n",
            "memory usage: 2.7+ MB\n",
            "None\n",
            "\n",
            "Missing values count per column:\n",
            "ID            0\n",
            "CURR_AGE      0\n",
            "GENDER        0\n",
            "ANN_INCOME    0\n",
            "DT_MAINT      0\n",
            "dtype: int64\n",
            "\n",
            "Summary statistics for numerical columns:\n",
            "           CURR_AGE\n",
            "count  70000.000000\n",
            "mean      44.995314\n",
            "std       11.822122\n",
            "min       25.000000\n",
            "25%       35.000000\n",
            "50%       45.000000\n",
            "75%       55.000000\n",
            "max       65.000000\n"
          ]
        }
      ]
    },
    {
      "cell_type": "code",
      "source": [
        "# For Japanese Dataset\n",
        "# Display basic information about the Japanese Dataset\n",
        "\n",
        "print(\"\\n--- Japanese Dataset Overview ---\")\n",
        "print(\"Shape (rows, columns):\", df_japan.shape)\n",
        "print(\"\\nFirst 5 rows:\")\n",
        "print(df_japan.head())\n",
        "print(\"\\nColumn information (data types, non-null counts):\")\n",
        "print(df_japan.info())\n",
        "print(\"\\nMissing values count per column:\")\n",
        "print(df_japan.isnull().sum())\n",
        "print(\"\\nSummary statistics for numerical columns:\")\n",
        "print(df_japan.describe())\n",
        "\n",
        "# Example for unique values and value counts for a hypothetical 'Gender' column\n",
        "# (Replace 'Gender' with actual column names from your dataset if it exists)\n",
        "if 'Gender' in df_japan.columns:\n",
        "    print(\"\\nUnique values in 'Gender' column:\")\n",
        "    print(df_japan['Gender'].unique())\n",
        "    print(\"\\nValue counts for 'Gender' column:\")\n",
        "    print(df_japan['Gender'].value_counts())\n"
      ],
      "metadata": {
        "colab": {
          "base_uri": "https://localhost:8080/"
        },
        "id": "sL7RwZHSzl-9",
        "outputId": "1c73605e-5330-47f0-ff30-5fdd471ac786"
      },
      "execution_count": null,
      "outputs": [
        {
          "output_type": "stream",
          "name": "stdout",
          "text": [
            "\n",
            "--- Japanese Dataset Overview ---\n",
            "Shape (rows, columns): (40000, 6)\n",
            "\n",
            "First 5 rows:\n",
            "           ID  CURR_AGE GENDER ANN_INCOME  AGE_CAR  PURCHASE\n",
            "0  00001Q15YJ        50      M    445,344      439         0\n",
            "1  00003I71CQ        35      M    107,634      283         0\n",
            "2  00003N47FS        59      F    502,787      390         1\n",
            "3  00005H41DE        43      M    585,664      475         0\n",
            "4  00007E17UM        39      F    705,723      497         1\n",
            "\n",
            "Column information (data types, non-null counts):\n",
            "<class 'pandas.core.frame.DataFrame'>\n",
            "RangeIndex: 40000 entries, 0 to 39999\n",
            "Data columns (total 6 columns):\n",
            " #   Column      Non-Null Count  Dtype \n",
            "---  ------      --------------  ----- \n",
            " 0   ID          40000 non-null  object\n",
            " 1   CURR_AGE    40000 non-null  int64 \n",
            " 2   GENDER      40000 non-null  object\n",
            " 3   ANN_INCOME  40000 non-null  object\n",
            " 4   AGE_CAR     40000 non-null  int64 \n",
            " 5   PURCHASE    40000 non-null  int64 \n",
            "dtypes: int64(3), object(3)\n",
            "memory usage: 1.8+ MB\n",
            "None\n",
            "\n",
            "Missing values count per column:\n",
            "ID            0\n",
            "CURR_AGE      0\n",
            "GENDER        0\n",
            "ANN_INCOME    0\n",
            "AGE_CAR       0\n",
            "PURCHASE      0\n",
            "dtype: int64\n",
            "\n",
            "Summary statistics for numerical columns:\n",
            "          CURR_AGE       AGE_CAR      PURCHASE\n",
            "count  40000.00000  40000.000000  40000.000000\n",
            "mean      44.99745    359.080250      0.575775\n",
            "std       11.82008    203.063724      0.494231\n",
            "min       25.00000      1.000000      0.000000\n",
            "25%       35.00000    235.000000      0.000000\n",
            "50%       45.00000    331.000000      1.000000\n",
            "75%       55.00000    444.000000      1.000000\n",
            "max       65.00000   1020.000000      1.000000\n"
          ]
        }
      ]
    },
    {
      "cell_type": "markdown",
      "source": [
        "1.3 Data Cleaning and Preprocessing"
      ],
      "metadata": {
        "id": "QapGmIfU0Kuw"
      }
    },
    {
      "cell_type": "markdown",
      "source": [
        "1.3.1 Handle Missing Values:\n",
        "Imputation"
      ],
      "metadata": {
        "id": "mP2npqVH0Wly"
      }
    },
    {
      "cell_type": "code",
      "source": [
        "# Example: Imputing missing numerical values with the median\n",
        "# (Apply this for relevant numerical columns in both datasets)\n",
        "\n",
        "if 'Income' in df_india.columns and df_india['Income'].isnull().any():\n",
        "    df_india['Income'].fillna(df_india['Income'].median(), inplace=True)\n",
        "    print(\"Missing 'Income' values in Indian dataset imputed with median.\")\n",
        "\n",
        "\n",
        "# Example: Imputing missing categorical values with the mode\n",
        "# (Apply this for relevant categorical columns in both datasets)\n",
        "\n",
        "if 'Education' in df_india.columns and df_india['Education'].isnull().any():\n",
        "    mode_education = df_india['Education'].mode()[0]\n",
        "    df_india['Education'].fillna(mode_education, inplace=True)\n",
        "    print(\"Missing 'Education' values in Indian dataset imputed with mode.\")"
      ],
      "metadata": {
        "id": "IzXHjcSf0N_X"
      },
      "execution_count": null,
      "outputs": []
    },
    {
      "cell_type": "markdown",
      "source": [
        "1.3.2 Address Outliers: Simple Capping - for a numerical column like 'Age'"
      ],
      "metadata": {
        "id": "DEMGbjdL0iGg"
      }
    },
    {
      "cell_type": "code",
      "source": [
        "# Example: Capping outliers for 'Age' column (e.g., cap values above 99th percentile)\n",
        "# (Apply this for relevant numerical columns in both datasets)\n",
        "\n",
        "if 'Age' in df_india.columns:\n",
        "    upper_bound_age = df_india['Age'].quantile(0.99)\n",
        "    df_india['Age'] = df_india['Age'].clip(upper=upper_bound_age)\n",
        "    print(\"Outliers in 'Age' column of Indian dataset capped.\")"
      ],
      "metadata": {
        "id": "eCVTCO_T0lAa"
      },
      "execution_count": null,
      "outputs": []
    },
    {
      "cell_type": "markdown",
      "source": [
        "1.3.3 Feature Engineering: Creating Age Groups"
      ],
      "metadata": {
        "id": "HYlEmsq_0rBU"
      }
    },
    {
      "cell_type": "code",
      "source": [
        "# Example: Creating 'AgeGroup' from 'Age'\n",
        "# (Apply this for relevant numerical columns in both datasets)\n",
        "\n",
        "if 'Age' in df_india.columns:\n",
        "    bins = [0, 18, 35, 55, 100]\n",
        "    labels = ['Child', 'Young Adult', 'Middle-Aged', 'Senior']\n",
        "    df_india['AgeGroup'] = pd.cut(df_india['Age'], bins=bins, labels=labels, right=False)\n",
        "    print(\"'AgeGroup' feature created for Indian dataset.\")"
      ],
      "metadata": {
        "id": "J0GM3fti0uSb"
      },
      "execution_count": null,
      "outputs": []
    },
    {
      "cell_type": "markdown",
      "source": [
        "1.3.4 Categorical Variable Encoding:\n",
        "One-Hot Encoding"
      ],
      "metadata": {
        "id": "MLzylN4H00t6"
      }
    },
    {
      "cell_type": "code",
      "source": [
        "# Example: One-hot encoding for a nominal categorical column like 'City'\n",
        "# (Identify all nominal categorical columns in both datasets and apply)\n",
        "\n",
        "categorical_cols_india = [] # Example columns, adjust as per your data\n",
        "df_india = pd.get_dummies(df_india, columns=categorical_cols_india, drop_first=True) # drop_first avoids multicollinearity\n",
        "print(\"Categorical columns in Indian dataset one-hot encoded.\")"
      ],
      "metadata": {
        "colab": {
          "base_uri": "https://localhost:8080/"
        },
        "id": "_SxQA_0f1vCY",
        "outputId": "a27325b6-0f99-4efe-b7b3-b958db02dc4f"
      },
      "execution_count": null,
      "outputs": [
        {
          "output_type": "stream",
          "name": "stdout",
          "text": [
            "Categorical columns in Indian dataset one-hot encoded.\n"
          ]
        }
      ]
    },
    {
      "cell_type": "markdown",
      "source": [
        "1.3.5 Feature Scaling:Python Code Example (Standardization - for numerical columns after splitting data):"
      ],
      "metadata": {
        "id": "3AoB9DGj2B14"
      }
    },
    {
      "cell_type": "code",
      "source": [
        "from sklearn.preprocessing import StandardScaler\n",
        "\n",
        "# Assuming you've already split your data into X_train, X_test\n",
        "# (This step typically comes after splitting the data for model building)\n",
        "\n",
        "# Identify numerical columns to scale (excluding any encoded binary columns)\n",
        "numerical_cols_to_scale_india = ['Age', 'Income', 'Monthly_Spend'] # Example, adjust as per your data\n",
        "scaler = StandardScaler()\n",
        "\n",
        "# Fit on training data and transform both\n",
        "# X_train[numerical_cols_to_scale_india] = scaler.fit_transform(X_train[numerical_cols_to_scale_india])\n",
        "# X_test[numerical_cols_to_scale_india] = scaler.transform(X_test[numerical_cols_to_scale_india])\n",
        "# print(\"Numerical features in Indian dataset scaled.\")"
      ],
      "metadata": {
        "id": "QfmrmBvr2Jj4"
      },
      "execution_count": null,
      "outputs": []
    },
    {
      "cell_type": "markdown",
      "source": [
        "Step 2: Classification Model over Japanese Datase"
      ],
      "metadata": {
        "id": "MXDfR0di3PbF"
      }
    },
    {
      "cell_type": "markdown",
      "source": [
        "2.1 Preprocessing Specific to Japanese Dataset"
      ],
      "metadata": {
        "id": "Jo8Vt6Ag3SaM"
      }
    },
    {
      "cell_type": "code",
      "source": [
        "# Clean and convert 'ANN_INCOME' to numeric\n",
        "\n",
        "if 'ANN_INCOME' in df_japan.columns:\n",
        "\n",
        "    # Remove commas and convert to numeric\n",
        "\n",
        "    df_japan['ANN_INCOME'] = df_japan['ANN_INCOME'].str.replace(',', '').astype(float)\n",
        "    print(\"ANN_INCOME column cleaned and converted to numeric.\")\n",
        "else:\n",
        "    print(\"ANN_INCOME column not found in Japanese dataset.\")\n",
        "\n",
        "# Verify the data type\n",
        "\n",
        "print(\"\\nUpdated Dtypes for Japanese Dataset:\")\n",
        "print(df_japan.info())"
      ],
      "metadata": {
        "colab": {
          "base_uri": "https://localhost:8080/"
        },
        "id": "ZzubXJhT4Aoc",
        "outputId": "3aaefff1-65ea-4b20-b274-246674d09096"
      },
      "execution_count": null,
      "outputs": [
        {
          "output_type": "stream",
          "name": "stdout",
          "text": [
            "ANN_INCOME column cleaned and converted to numeric.\n",
            "\n",
            "Updated Dtypes for Japanese Dataset:\n",
            "<class 'pandas.core.frame.DataFrame'>\n",
            "RangeIndex: 40000 entries, 0 to 39999\n",
            "Data columns (total 6 columns):\n",
            " #   Column      Non-Null Count  Dtype  \n",
            "---  ------      --------------  -----  \n",
            " 0   ID          40000 non-null  object \n",
            " 1   CURR_AGE    40000 non-null  int64  \n",
            " 2   GENDER      40000 non-null  object \n",
            " 3   ANN_INCOME  40000 non-null  float64\n",
            " 4   AGE_CAR     40000 non-null  int64  \n",
            " 5   PURCHASE    40000 non-null  int64  \n",
            "dtypes: float64(1), int64(3), object(2)\n",
            "memory usage: 1.8+ MB\n",
            "None\n"
          ]
        }
      ]
    },
    {
      "cell_type": "markdown",
      "source": [
        "2.2 Define Features (X) and Target (y)"
      ],
      "metadata": {
        "id": "tfHULNa_4dpp"
      }
    },
    {
      "cell_type": "code",
      "source": [
        "# Define features (X) and target (y)\n",
        "# Drop 'ID' as it's not a predictive feature\n",
        "\n",
        "X = df_japan.drop(['ID', 'PURCHASE'], axis=1)\n",
        "y = df_japan['PURCHASE']\n",
        "\n",
        "print(f\"\\nFeatures (X) shape: {X.shape}\")\n",
        "print(f\"Target (y) shape: {y.shape}\")\n",
        "print(\"\\nFeatures columns:\", X.columns.tolist())"
      ],
      "metadata": {
        "colab": {
          "base_uri": "https://localhost:8080/"
        },
        "id": "_MxpdMCY4fWx",
        "outputId": "7d1df2b7-93a2-45de-c4e3-ac8d9dbfb0ee"
      },
      "execution_count": null,
      "outputs": [
        {
          "output_type": "stream",
          "name": "stdout",
          "text": [
            "\n",
            "Features (X) shape: (40000, 4)\n",
            "Target (y) shape: (40000,)\n",
            "\n",
            "Features columns: ['CURR_AGE', 'GENDER', 'ANN_INCOME', 'AGE_CAR']\n"
          ]
        }
      ]
    },
    {
      "cell_type": "markdown",
      "source": [
        "2.3 Handle Categorical Features (One-Hot Encoding)"
      ],
      "metadata": {
        "id": "2PR3fMKf4j9T"
      }
    },
    {
      "cell_type": "code",
      "source": [
        "# Apply One-Hot Encoding for 'GENDER'\n",
        "\n",
        "X = pd.get_dummies(X, columns=['GENDER'], drop_first=True) # drop_first=True to avoid multicollinearity\n",
        "\n",
        "print(\"\\nFeatures after One-Hot Encoding (first 5 rows):\")\n",
        "print(X.head())\n",
        "print(f\"\\nFeatures (X) shape after encoding: {X.shape}\")"
      ],
      "metadata": {
        "colab": {
          "base_uri": "https://localhost:8080/"
        },
        "id": "yRxWWi3v4oZq",
        "outputId": "f889657d-7ca0-4484-8814-27ddbe4e7582"
      },
      "execution_count": null,
      "outputs": [
        {
          "output_type": "stream",
          "name": "stdout",
          "text": [
            "\n",
            "Features after One-Hot Encoding (first 5 rows):\n",
            "   CURR_AGE  ANN_INCOME  AGE_CAR  GENDER_M\n",
            "0        50    445344.0      439      True\n",
            "1        35    107634.0      283      True\n",
            "2        59    502787.0      390     False\n",
            "3        43    585664.0      475      True\n",
            "4        39    705723.0      497     False\n",
            "\n",
            "Features (X) shape after encoding: (40000, 4)\n"
          ]
        }
      ]
    },
    {
      "cell_type": "markdown",
      "source": [
        "2.4 Split Data into Training and Testing Sets"
      ],
      "metadata": {
        "id": "capuec3G4tVE"
      }
    },
    {
      "cell_type": "code",
      "source": [
        "from sklearn.model_selection import train_test_split\n",
        "\n",
        "X_train, X_test, y_train, y_test = train_test_split(X, y, test_size=0.3, random_state=42, stratify=y)\n",
        "\n",
        "print(f\"\\nX_train shape: {X_train.shape}\")\n",
        "print(f\"X_test shape: {X_test.shape}\")\n",
        "print(f\"y_train shape: {y_train.shape}\")\n",
        "print(f\"y_test shape: {y_test.shape}\")\n",
        "print(f\"\\ny_train value counts:\\n{y_train.value_counts(normalize=True)}\")\n",
        "print(f\"\\ny_test value counts:\\n{y_test.value_counts(normalize=True)}\")"
      ],
      "metadata": {
        "colab": {
          "base_uri": "https://localhost:8080/"
        },
        "id": "O67Pg9DF4vNQ",
        "outputId": "b6900738-2c0f-44a5-bbbd-cd2f1fc1124a"
      },
      "execution_count": null,
      "outputs": [
        {
          "output_type": "stream",
          "name": "stdout",
          "text": [
            "\n",
            "X_train shape: (28000, 4)\n",
            "X_test shape: (12000, 4)\n",
            "y_train shape: (28000,)\n",
            "y_test shape: (12000,)\n",
            "\n",
            "y_train value counts:\n",
            "PURCHASE\n",
            "1    0.575786\n",
            "0    0.424214\n",
            "Name: proportion, dtype: float64\n",
            "\n",
            "y_test value counts:\n",
            "PURCHASE\n",
            "1    0.57575\n",
            "0    0.42425\n",
            "Name: proportion, dtype: float64\n"
          ]
        }
      ]
    },
    {
      "cell_type": "markdown",
      "source": [
        "2.5 Feature Scaling (Numerical Features)"
      ],
      "metadata": {
        "id": "wH7lJ_Te41_C"
      }
    },
    {
      "cell_type": "code",
      "source": [
        "from sklearn.preprocessing import StandardScaler\n",
        "\n",
        "# Identify numerical columns to scale. Exclude any one-hot encoded columns (like 'GENDER_M' if it exists).\n",
        "# The columns remaining are 'CURR_AGE', 'ANN_INCOME', 'AGE_CAR'\n",
        "\n",
        "numerical_cols = ['CURR_AGE', 'ANN_INCOME', 'AGE_CAR'] # Adjust if you added/removed other numerical features\n",
        "\n",
        "scaler = StandardScaler()\n",
        "\n",
        "# Fit the scaler on the training data and transform it\n",
        "\n",
        "X_train[numerical_cols] = scaler.fit_transform(X_train[numerical_cols])\n",
        "\n",
        "# Transform the test data using the *fitted* scaler\n",
        "\n",
        "X_test[numerical_cols] = scaler.transform(X_test[numerical_cols])\n",
        "\n",
        "print(\"\\nNumerical features scaled successfully.\")\n",
        "print(\"\\nX_train (first 5 rows) after scaling:\")\n",
        "print(X_train.head())"
      ],
      "metadata": {
        "colab": {
          "base_uri": "https://localhost:8080/"
        },
        "id": "pP5hFVSv43a1",
        "outputId": "524812a4-d625-486c-a6d6-41010205205e"
      },
      "execution_count": null,
      "outputs": [
        {
          "output_type": "stream",
          "name": "stdout",
          "text": [
            "\n",
            "Numerical features scaled successfully.\n",
            "\n",
            "X_train (first 5 rows) after scaling:\n",
            "       CURR_AGE  ANN_INCOME   AGE_CAR  GENDER_M\n",
            "17782  0.265796   -1.380988  0.618204      True\n",
            "25180  1.197872    0.668610 -0.056734      True\n",
            "21604 -0.920483   -1.365966 -0.574023      True\n",
            "37524 -0.581546    0.060280  0.416215      True\n",
            "37376  0.858936    0.960593 -0.101073      True\n"
          ]
        }
      ]
    },
    {
      "cell_type": "markdown",
      "source": [
        "2.6 Choose a Classification Model:Logistic Regression: Good baseline, highly interpretable."
      ],
      "metadata": {
        "id": "OBTYGlnB5qwo"
      }
    },
    {
      "cell_type": "markdown",
      "source": [
        "2.7 Train the Model Action: Create an instance of your model and train it using X_train and y_train."
      ],
      "metadata": {
        "id": "LLwaUFbD5zNN"
      }
    },
    {
      "cell_type": "code",
      "source": [
        "from sklearn.linear_model import LogisticRegression\n",
        "\n",
        "# Initialize the Logistic Regression model\n",
        "model = LogisticRegression(random_state=42, solver='liblinear') # 'liblinear' is good for small datasets\n",
        "\n",
        "# Train the model\n",
        "model.fit(X_train, y_train)\n",
        "\n",
        "print(\"\\nLogistic Regression model trained successfully.\")"
      ],
      "metadata": {
        "colab": {
          "base_uri": "https://localhost:8080/"
        },
        "id": "f9d0ihTp5xDD",
        "outputId": "cb9456ed-a64d-4db5-89f6-4f860f0fc5e9"
      },
      "execution_count": null,
      "outputs": [
        {
          "output_type": "stream",
          "name": "stdout",
          "text": [
            "\n",
            "Logistic Regression model trained successfully.\n"
          ]
        }
      ]
    },
    {
      "cell_type": "markdown",
      "source": [
        "2.8 Make Predictions\n",
        "Action: Predict the PURCHASE outcome for X_test."
      ],
      "metadata": {
        "id": "pVvDri2N6AVf"
      }
    },
    {
      "cell_type": "code",
      "source": [
        "# Make predictions on the test set\n",
        "y_pred = model.predict(X_test)\n",
        "y_pred_proba = model.predict_proba(X_test)[:, 1] # Probabilities for the positive class (1)\n",
        "\n",
        "print(\"\\nPredictions made on the test set.\")"
      ],
      "metadata": {
        "colab": {
          "base_uri": "https://localhost:8080/"
        },
        "id": "kUWGFTEs58dE",
        "outputId": "461229e8-3ca4-4b1f-93b8-d7560aba8979"
      },
      "execution_count": null,
      "outputs": [
        {
          "output_type": "stream",
          "name": "stdout",
          "text": [
            "\n",
            "Predictions made on the test set.\n"
          ]
        }
      ]
    },
    {
      "cell_type": "markdown",
      "source": [
        "2.9 Evaluate the Model Action: Calculate and print relevant classification metrics."
      ],
      "metadata": {
        "id": "I1PIVMKr6Syv"
      }
    },
    {
      "cell_type": "code",
      "source": [
        "from sklearn.metrics import accuracy_score, precision_score, recall_score, f1_score, roc_auc_score, confusion_matrix\n",
        "\n",
        "print(\"\\n--- Model Evaluation ---\")\n",
        "print(f\"Accuracy: {accuracy_score(y_test, y_pred):.4f}\")\n",
        "print(f\"Precision: {precision_score(y_test, y_pred):.4f}\")\n",
        "print(f\"Recall: {recall_score(y_test, y_pred):.4f}\")\n",
        "print(f\"F1-Score: {f1_score(y_test, y_pred):.4f}\")\n",
        "print(f\"ROC AUC Score: {roc_auc_score(y_test, y_pred_proba):.4f}\")\n",
        "\n",
        "print(\"\\nConfusion Matrix:\")\n",
        "print(confusion_matrix(y_test, y_pred))\n",
        "\n",
        "# You can also visualize the ROC curve for better understanding\n",
        "from sklearn.metrics import RocCurveDisplay\n",
        "import matplotlib.pyplot as plt\n",
        "\n",
        "# Ensure to use the correct model name (e.g., 'model' in this case)\n",
        "RocCurveDisplay.from_estimator(model, X_test, y_test)\n",
        "plt.title('ROC Curve')\n",
        "plt.show()"
      ],
      "metadata": {
        "colab": {
          "base_uri": "https://localhost:8080/",
          "height": 663
        },
        "id": "QS6KzLjA6YJa",
        "outputId": "2e9091b6-ab6f-4ebf-f1ab-72ab159fd863"
      },
      "execution_count": null,
      "outputs": [
        {
          "output_type": "stream",
          "name": "stdout",
          "text": [
            "\n",
            "--- Model Evaluation ---\n",
            "Accuracy: 0.6765\n",
            "Precision: 0.6936\n",
            "Recall: 0.7849\n",
            "F1-Score: 0.7364\n",
            "ROC AUC Score: 0.7271\n",
            "\n",
            "Confusion Matrix:\n",
            "[[2695 2396]\n",
            " [1486 5423]]\n"
          ]
        },
        {
          "output_type": "display_data",
          "data": {
            "text/plain": [
              "<Figure size 640x480 with 1 Axes>"
            ],
            "image/png": "[encoded data removed]"
          },
          "metadata": {}
        }
      ]
    },
    {
      "cell_type": "markdown",
      "source": [
        "2.10 Hyperparameter Tuning (Optional but Recommended)"
      ],
      "metadata": {
        "id": "n7UmrIUZ6k_z"
      }
    },
    {
      "cell_type": "markdown",
      "source": [
        "Action: Use techniques like GridSearchCV or RandomizedSearchCV."
      ],
      "metadata": {
        "id": "Tc2dr_TT6oJp"
      }
    },
    {
      "cell_type": "code",
      "source": [
        "from sklearn.model_selection import GridSearchCV\n",
        "\n",
        "# Example for Logistic Regression\n",
        "param_grid = {\n",
        "    'C': [0.001, 0.01, 0.1, 1, 10, 100], # Inverse of regularization strength\n",
        "    'solver': ['liblinear', 'lbfgs']\n",
        "}\n",
        "\n",
        "grid_search = GridSearchCV(LogisticRegression(random_state=42), param_grid, cv=5, scoring='roc_auc', n_jobs=-1)\n",
        "grid_search.fit(X_train, y_train)\n",
        "\n",
        "best_model = grid_search.best_estimator_\n",
        "print(f\"\\nBest parameters found: {grid_search.best_params_}\")\n",
        "print(f\"Best ROC AUC score: {grid_search.best_score_:.4f}\")\n",
        "\n",
        "# You would then use best_model for predictions and final evaluation"
      ],
      "metadata": {
        "colab": {
          "base_uri": "https://localhost:8080/"
        },
        "id": "5mf6RErZ6qlJ",
        "outputId": "3a386d8f-ba47-4f21-a738-82cdaea4d8bb"
      },
      "execution_count": null,
      "outputs": [
        {
          "output_type": "stream",
          "name": "stdout",
          "text": [
            "\n",
            "Best parameters found: {'C': 0.01, 'solver': 'lbfgs'}\n",
            "Best ROC AUC score: 0.7240\n"
          ]
        }
      ]
    },
    {
      "cell_type": "markdown",
      "source": [
        "Step 3: Business Interpretation of Coefficients"
      ],
      "metadata": {
        "id": "YFSiv11f7QN5"
      }
    },
    {
      "cell_type": "markdown",
      "source": [
        "3.1 Understand Logistic Regression Coefficients"
      ],
      "metadata": {
        "id": "aTqToEI47THC"
      }
    },
    {
      "cell_type": "markdown",
      "source": [
        "3.2 Extract and Display Coefficients"
      ],
      "metadata": {
        "id": "ZA9UYwB27Xw6"
      }
    },
    {
      "cell_type": "code",
      "source": [
        "import pandas as pd\n",
        "import numpy as np\n",
        "\n",
        "# Assuming 'best_model' is your final trained Logistic Regression model\n",
        "# If not using hyperparameter tuning, replace 'best_model' with 'model'\n",
        "\n",
        "final_model = best_model # or 'model' if you didn't do grid search\n",
        "\n",
        "# Get the coefficients and feature names\n",
        "\n",
        "coefficients = final_model.coef_[0] # For binary classification, coef_ is usually 2D array, take the first row\n",
        "feature_names = X_train.columns # Use X_train columns as they are the features used in training\n",
        "\n",
        "# Create a DataFrame for better readability\n",
        "\n",
        "coef_df = pd.DataFrame({\n",
        "    'Feature': feature_names,\n",
        "    'Coefficient': coefficients,\n",
        "    'Odds_Ratio': np.exp(coefficients) # Calculate odds ratios\n",
        "})\n",
        "\n",
        "# Sort by absolute coefficient value to see most influential features\n",
        "\n",
        "coef_df['Abs_Coefficient'] = np.abs(coef_df['Coefficient'])\n",
        "coef_df = coef_df.sort_values(by='Abs_Coefficient', ascending=False)\n",
        "\n",
        "print(\"\\n--- Model Coefficients and Odds Ratios ---\")\n",
        "print(coef_df[['Feature', 'Coefficient', 'Odds_Ratio']].to_string(index=False))"
      ],
      "metadata": {
        "colab": {
          "base_uri": "https://localhost:8080/"
        },
        "id": "iLHQOCuv7bDT",
        "outputId": "59cbd8df-a038-4bf9-deb2-c75d6312805e"
      },
      "execution_count": null,
      "outputs": [
        {
          "output_type": "stream",
          "name": "stdout",
          "text": [
            "\n",
            "--- Model Coefficients and Odds Ratios ---\n",
            "   Feature  Coefficient  Odds_Ratio\n",
            "   AGE_CAR     0.820844    2.272417\n",
            "ANN_INCOME     0.416478    1.516611\n",
            "  GENDER_M     0.192008    1.211680\n",
            "  CURR_AGE    -0.135778    0.873036\n"
          ]
        }
      ]
    },
    {
      "cell_type": "markdown",
      "source": [
        "3.3 Interpret Numerical Coefficients (e.g., CURR_AGE, ANN_INCOME, AGE_CAR)"
      ],
      "metadata": {
        "id": "hRI1RO9V7zlA"
      }
    },
    {
      "cell_type": "markdown",
      "source": [
        "3.4 Interpret Categorical Coefficients (e.g., GENDER_M)"
      ],
      "metadata": {
        "id": "7xMRg7Z178c_"
      }
    },
    {
      "cell_type": "markdown",
      "source": [
        "3.5 Translate to Business Insights and Recommendations"
      ],
      "metadata": {
        "id": "0L4T764U8GX1"
      }
    },
    {
      "cell_type": "markdown",
      "source": [
        "Step 4: Metrics for Model Validation, Performance, and Evaluation"
      ],
      "metadata": {
        "id": "J9v6U_Hd8_zh"
      }
    },
    {
      "cell_type": "markdown",
      "source": [
        "4.1 Understanding the Confusion Matrix"
      ],
      "metadata": {
        "id": "xr2rE6-g9ExB"
      }
    },
    {
      "cell_type": "code",
      "source": [
        "from sklearn.metrics import confusion_matrix\n",
        "import seaborn as sns\n",
        "import matplotlib.pyplot as plt\n",
        "\n",
        "# Assuming y_test and y_pred are available from Step 2.8\n",
        "\n",
        "cm = confusion_matrix(y_test, y_pred)\n",
        "print(\"\\n--- Confusion Matrix ---\")\n",
        "print(cm)\n",
        "\n",
        "# Optional: Visualize the confusion matrix\n",
        "\n",
        "plt.figure(figsize=(6, 4))\n",
        "sns.heatmap(cm, annot=True, fmt='d', cmap='Blues',\n",
        "            xticklabels=['Predicted 0', 'Predicted 1'],\n",
        "            yticklabels=['Actual 0', 'Actual 1'])\n",
        "plt.ylabel('Actual Label')\n",
        "plt.xlabel('Predicted Label')\n",
        "plt.title('Confusion Matrix')\n",
        "plt.show()"
      ],
      "metadata": {
        "colab": {
          "base_uri": "https://localhost:8080/",
          "height": 479
        },
        "id": "ZBI_gjpu9GNt",
        "outputId": "c7202785-7094-4d06-d159-2131e4462cf1"
      },
      "execution_count": null,
      "outputs": [
        {
          "output_type": "stream",
          "name": "stdout",
          "text": [
            "\n",
            "--- Confusion Matrix ---\n",
            "[[2695 2396]\n",
            " [1486 5423]]\n"
          ]
        },
        {
          "output_type": "display_data",
          "data": {
            "text/plain": [
              "<Figure size 600x400 with 2 Axes>"
            ],
            "image/png": "[encoded data removed]"
          },
          "metadata": {}
        }
      ]
    },
    {
      "cell_type": "markdown",
      "source": [
        "4.2 Key Classification Metrics"
      ],
      "metadata": {
        "id": "9IcEXnIh9aE8"
      }
    },
    {
      "cell_type": "code",
      "source": [
        "from sklearn.metrics import accuracy_score, precision_score, recall_score, f1_score, roc_auc_score\n",
        "from sklearn.metrics import RocCurveDisplay # For plotting ROC curve\n",
        "\n",
        "# Assuming y_test, y_pred, and y_pred_proba are available from Step 2.8\n",
        "\n",
        "print(\"\\n--- Comprehensive Model Performance Metrics ---\")\n",
        "print(f\"Accuracy: {accuracy_score(y_test, y_pred):.4f}\")\n",
        "print(f\"Precision: {precision_score(y_test, y_pred):.4f}\")\n",
        "print(f\"Recall: {recall_score(y_test, y_pred):.4f}\")\n",
        "print(f\"F1-Score: {f1_score(y_test, y_pred):.4f}\")\n",
        "print(f\"ROC AUC Score: {roc_auc_score(y_test, y_pred_proba):.4f}\")\n",
        "\n",
        "# Plotting ROC Curve\n",
        "print(\"\\n--- ROC Curve ---\")\n",
        "RocCurveDisplay.from_estimator(final_model, X_test, y_test) # Use your final trained model (e.g., 'final_model' or 'best_model')\n",
        "plt.title('ROC Curve for Phone Purchase Prediction')\n",
        "plt.grid(True)\n",
        "plt.show()"
      ],
      "metadata": {
        "colab": {
          "base_uri": "https://localhost:8080/",
          "height": 628
        },
        "id": "9LJIrZhg9dX5",
        "outputId": "37c41b57-8611-4c28-d3c8-c0090cd49caf"
      },
      "execution_count": null,
      "outputs": [
        {
          "output_type": "stream",
          "name": "stdout",
          "text": [
            "\n",
            "--- Comprehensive Model Performance Metrics ---\n",
            "Accuracy: 0.6765\n",
            "Precision: 0.6936\n",
            "Recall: 0.7849\n",
            "F1-Score: 0.7364\n",
            "ROC AUC Score: 0.7271\n",
            "\n",
            "--- ROC Curve ---\n"
          ]
        },
        {
          "output_type": "display_data",
          "data": {
            "text/plain": [
              "<Figure size 640x480 with 1 Axes>"
            ],
            "image/png": "[encoded data removed]"
          },
          "metadata": {}
        }
      ]
    },
    {
      "cell_type": "markdown",
      "source": [
        "4.3 Cross-Validation for Robust Evaluation"
      ],
      "metadata": {
        "id": "JMn98c6W9qZL"
      }
    },
    {
      "cell_type": "code",
      "source": [
        "from sklearn.model_selection import cross_val_score, KFold\n",
        "\n",
        "# Define the cross-validation strategy (e.g., 5 folds)\n",
        "cv = KFold(n_splits=5, shuffle=True, random_state=42)\n",
        "\n",
        "# Perform cross-validation and get scores for desired metrics\n",
        "# Using your final_model (e.g., LogisticRegression)\n",
        "accuracy_scores = cross_val_score(final_model, X, y, cv=cv, scoring='accuracy', n_jobs=-1)\n",
        "precision_scores = cross_val_score(final_model, X, y, cv=cv, scoring='precision', n_jobs=-1)\n",
        "recall_scores = cross_val_score(final_model, X, y, cv=cv, scoring='recall', n_jobs=-1)\n",
        "f1_scores = cross_val_score(final_model, X, y, cv=cv, scoring='f1', n_jobs=-1)\n",
        "roc_auc_scores = cross_val_score(final_model, X, y, cv=cv, scoring='roc_auc', n_jobs=-1)\n",
        "\n",
        "print(\"\\n--- Cross-Validation Results (5-Fold) ---\")\n",
        "print(f\"Average Accuracy: {accuracy_scores.mean():.4f} (+/- {accuracy_scores.std() * 2:.4f})\")\n",
        "print(f\"Average Precision: {precision_scores.mean():.4f} (+/- {precision_scores.std() * 2:.4f})\")\n",
        "print(f\"Average Recall: {recall_scores.mean():.4f} (+/- {recall_scores.std() * 2:.4f})\")\n",
        "print(f\"Average F1-Score: {f1_scores.mean():.4f} (+/- {f1_scores.std() * 2:.4f})\")\n",
        "print(f\"Average ROC AUC Score: {roc_auc_scores.mean():.4f} (+/- {roc_auc_scores.std() * 2:.4f})\")"
      ],
      "metadata": {
        "colab": {
          "base_uri": "https://localhost:8080/"
        },
        "id": "-Ni7UK1-9tuh",
        "outputId": "b979a640-0c14-487b-8d76-a5f0def664ac"
      },
      "execution_count": null,
      "outputs": [
        {
          "output_type": "stream",
          "name": "stdout",
          "text": [
            "\n",
            "--- Cross-Validation Results (5-Fold) ---\n",
            "Average Accuracy: 0.6732 (+/- 0.0133)\n",
            "Average Precision: 0.6911 (+/- 0.0173)\n",
            "Average Recall: 0.7819 (+/- 0.0132)\n",
            "Average F1-Score: 0.7337 (+/- 0.0121)\n",
            "Average ROC AUC Score: 0.7246 (+/- 0.0160)\n"
          ]
        }
      ]
    },
    {
      "cell_type": "markdown",
      "source": [
        "Step 5: Count of Potential Customers in the Indian Market"
      ],
      "metadata": {
        "id": "aH80Lg3M-Z7P"
      }
    },
    {
      "cell_type": "markdown",
      "source": [
        "5.1 Load and Prepare the Indian Dataset (Consistent Preprocessing)\n"
      ],
      "metadata": {
        "id": "W8430xXG-dqE"
      }
    },
    {
      "cell_type": "code",
      "source": [
        "import pandas as pd\n",
        "from sklearn.preprocessing import StandardScaler\n",
        "import numpy as np # For potential use with numerical operations\n",
        "\n",
        "# 1. Load the Indian Dataset\n",
        "try:\n",
        "    df_india = pd.read_csv('IN_Data.csv')\n",
        "    print(\"Indian dataset loaded successfully for prediction.\")\n",
        "except FileNotFoundError:\n",
        "    print(\"Error: IN_Data.csv not found. Please ensure the file is in the correct directory.\")\n",
        "\n",
        "# 2. Perform initial checks (EDA) for Indian Dataset\n",
        "print(\"\\n--- Indian Dataset Overview for Preprocessing ---\")\n",
        "print(\"First 5 rows:\")\n",
        "print(df_india.head())\n",
        "print(\"\\nColumn information (data types, non-null counts):\")\n",
        "print(df_india.info())\n",
        "print(\"\\nMissing values count per column:\")\n",
        "print(df_india.isnull().sum())\n",
        "\n",
        "# --- Important: Apply the same cleaning and preprocessing as Japanese Dataset ---\n",
        "\n",
        "# Assume 'ANN_INCOME' exists and needs cleaning in IN_Data.csv too\n",
        "# (Adjust column names based on your actual IN_Data.csv structure)\n",
        "if 'ANN_INCOME' in df_india.columns and df_india['ANN_INCOME'].dtype == 'object':\n",
        "    df_india['ANN_INCOME'] = df_india['ANN_INCOME'].str.replace(',', '').astype(float)\n",
        "    print(\"ANN_INCOME column in Indian dataset cleaned and converted to numeric.\")\n",
        "\n",
        "# Drop 'ID' column if it exists and is not a feature for prediction\n",
        "if 'ID' in df_india.columns:\n",
        "    df_india_processed = df_india.drop('ID', axis=1)\n",
        "    print(\"ID column dropped from Indian dataset.\")\n",
        "else:\n",
        "    df_india_processed = df_india.copy()\n",
        "\n",
        "# Apply One-Hot Encoding for categorical columns, consistent with Japanese dataset\n",
        "# (Adjust 'GENDER' to actual categorical columns in IN_Data.csv)\n",
        "categorical_cols_india = ['GENDER'] # Assuming 'GENDER' is the only categorical feature like in JPN_Data\n",
        "df_india_processed = pd.get_dummies(df_india_processed, columns=categorical_cols_india, drop_first=True)\n",
        "print(\"Categorical columns in Indian dataset one-hot encoded.\")\n",
        "\n",
        "# Align columns with the Japanese dataset's X_train columns\n",
        "# This is crucial if some one-hot encoded columns are not present in one dataset but are in the other\n",
        "# or if feature engineering created columns.\n",
        "# Ensure X_train from JPN dataset is defined from previous steps\n",
        "# For example, if X_train had 'GENDER_F' and 'GENDER_M', ensure df_india_processed has 'GENDER_M' (if drop_first=True)\n",
        "# Get the columns from the training data (Japanese dataset)\n",
        "# Replace 'X' with 'X_train' if you used X_train for training the model after splitting\n",
        "expected_cols = X_train.columns.tolist() # Assuming X_train holds the processed features from JPN dataset\n",
        "\n",
        "# Add missing columns (if any) and fill with 0\n",
        "missing_cols = set(expected_cols) - set(df_india_processed.columns)\n",
        "for c in missing_cols:\n",
        "    df_india_processed[c] = 0\n",
        "\n",
        "# Remove extra columns (if any) not in the training data\n",
        "extra_cols = set(df_india_processed.columns) - set(expected_cols)\n",
        "df_india_processed = df_india_processed.drop(columns=list(extra_cols))\n",
        "\n",
        "# Ensure the order of columns is the same as the training data\n",
        "df_india_processed = df_india_processed[expected_cols]\n",
        "\n",
        "print(\"\\nIndian dataset columns aligned with Japanese model features.\")\n",
        "print(\"Indian dataset (first 5 rows) after initial preprocessing:\")\n",
        "print(df_india_processed.head())\n",
        "\n",
        "\n",
        "# Apply the SAME StandardScaler fitted on Japanese training data\n",
        "# Ensure 'scaler' object is available from Step 2.5\n",
        "# Identify numerical columns (consistent with how they were scaled in JPN data)\n",
        "numerical_cols_india = ['CURR_AGE', 'ANN_INCOME', 'AGE_CAR'] # Adjust as per your data if different\n",
        "\n",
        "# Transform numerical features using the scaler fitted on JPN X_train\n",
        "if 'scaler' in locals() and scaler is not None:\n",
        "    df_india_processed[numerical_cols_india] = scaler.transform(df_india_processed[numerical_cols_india])\n",
        "    print(\"\\nNumerical features in Indian dataset scaled using Japanese model's scaler.\")\n",
        "    print(\"\\nIndian dataset (first 5 rows) after scaling:\")\n",
        "    print(df_india_processed.head())\n",
        "else:\n",
        "    print(\"\\nScaler not found. Please ensure 'scaler' from JPN dataset training is available.\")\n",
        "    # You would need to re-run the scaling section from Step 2.5 if 'scaler' is not in memory"
      ],
      "metadata": {
        "colab": {
          "base_uri": "https://localhost:8080/"
        },
        "id": "oP3lNp9i-k7K",
        "outputId": "5d175a95-ad73-453a-abfa-883a0b42ada0"
      },
      "execution_count": null,
      "outputs": [
        {
          "output_type": "stream",
          "name": "stdout",
          "text": [
            "Indian dataset loaded successfully for prediction.\n",
            "\n",
            "--- Indian Dataset Overview for Preprocessing ---\n",
            "First 5 rows:\n",
            "           ID  CURR_AGE GENDER   ANN_INCOME   DT_MAINT\n",
            "0  20710B05XL        54      M   1,425,390   4/20/2018\n",
            "1  89602T51HX        47      M   1,678,954    6/8/2018\n",
            "2  70190Z52IP        60      M     931,624   7/31/2017\n",
            "3  25623V15MU        55      F   1,106,320   7/31/2017\n",
            "4  36230I68CE        32      F     748,465   1/27/2019\n",
            "\n",
            "Column information (data types, non-null counts):\n",
            "<class 'pandas.core.frame.DataFrame'>\n",
            "RangeIndex: 70000 entries, 0 to 69999\n",
            "Data columns (total 5 columns):\n",
            " #   Column      Non-Null Count  Dtype \n",
            "---  ------      --------------  ----- \n",
            " 0   ID          70000 non-null  object\n",
            " 1   CURR_AGE    70000 non-null  int64 \n",
            " 2   GENDER      70000 non-null  object\n",
            " 3   ANN_INCOME  70000 non-null  object\n",
            " 4   DT_MAINT    70000 non-null  object\n",
            "dtypes: int64(1), object(4)\n",
            "memory usage: 2.7+ MB\n",
            "None\n",
            "\n",
            "Missing values count per column:\n",
            "ID            0\n",
            "CURR_AGE      0\n",
            "GENDER        0\n",
            "ANN_INCOME    0\n",
            "DT_MAINT      0\n",
            "dtype: int64\n",
            "ANN_INCOME column in Indian dataset cleaned and converted to numeric.\n",
            "ID column dropped from Indian dataset.\n",
            "Categorical columns in Indian dataset one-hot encoded.\n",
            "\n",
            "Indian dataset columns aligned with Japanese model features.\n",
            "Indian dataset (first 5 rows) after initial preprocessing:\n",
            "   CURR_AGE  ANN_INCOME  AGE_CAR  GENDER_M\n",
            "0        54   1425390.0        0      True\n",
            "1        47   1678954.0        0      True\n",
            "2        60    931624.0        0      True\n",
            "3        55   1106320.0        0     False\n",
            "4        32    748465.0        0     False\n",
            "\n",
            "Numerical features in Indian dataset scaled using Japanese model's scaler.\n",
            "\n",
            "Indian dataset (first 5 rows) after scaling:\n",
            "   CURR_AGE  ANN_INCOME  AGE_CAR  GENDER_M\n",
            "0  0.774201    6.096700 -1.76625      True\n",
            "1  0.181062    7.546177 -1.76625      True\n",
            "2  1.282607    3.274129 -1.76625      True\n",
            "3  0.858936    4.272764 -1.76625     False\n",
            "4 -1.089951    2.227116 -1.76625     False\n"
          ]
        }
      ]
    },
    {
      "cell_type": "markdown",
      "source": [
        "5.2 Apply the Trained Japanese Model to Predict Probabilities"
      ],
      "metadata": {
        "id": "QgoeDegL-rhj"
      }
    },
    {
      "cell_type": "code",
      "source": [
        "# Ensure 'final_model' (or 'best_model' / 'model') is available from Step 2.7 or 2.10\n",
        "if 'final_model' in locals() and final_model is not None:\n",
        "    india_pred_proba = final_model.predict_proba(df_india_processed)[:, 1] # Probability of positive class (purchase)\n",
        "    df_india['Purchase_Probability'] = india_pred_proba # Add probabilities back to original df_india or a new one\n",
        "\n",
        "    print(\"\\nPurchase probabilities predicted for Indian customers.\")\n",
        "    print(\"\\nIndian Dataset with Purchase Probabilities (first 5 rows):\")\n",
        "    print(df_india[['ID', 'Purchase_Probability']].head())\n",
        "else:\n",
        "    print(\"\\nFinal trained model not found. Please ensure your model from Step 2 is available.\")"
      ],
      "metadata": {
        "colab": {
          "base_uri": "https://localhost:8080/"
        },
        "id": "ZXC__SrB-wh3",
        "outputId": "fc84e4b3-aac1-43e5-851d-fbd2acff3ad0"
      },
      "execution_count": null,
      "outputs": [
        {
          "output_type": "stream",
          "name": "stdout",
          "text": [
            "\n",
            "Purchase probabilities predicted for Indian customers.\n",
            "\n",
            "Indian Dataset with Purchase Probabilities (first 5 rows):\n",
            "           ID  Purchase_Probability\n",
            "0  20710B05XL              0.811367\n",
            "1  89602T51HX              0.895025\n",
            "2  70190Z52IP              0.553382\n",
            "3  25623V15MU              0.621466\n",
            "4  36230I68CE              0.477122\n"
          ]
        }
      ]
    },
    {
      "cell_type": "markdown",
      "source": [
        "5.3 Define a Probability Threshold"
      ],
      "metadata": {
        "id": "mTRmjlHi-1YN"
      }
    },
    {
      "cell_type": "code",
      "source": [
        "# Example Threshold: 0.5\n",
        "threshold = 0.5\n",
        "print(f\"\\nUsing a probability threshold of: {threshold}\")\n",
        "\n",
        "df_india['Is_Potential_Customer'] = (df_india['Purchase_Probability'] >= threshold).astype(int)\n",
        "\n",
        "print(\"\\nIndian Dataset with Potential Customer Flag (first 5 rows):\")\n",
        "print(df_india[['ID', 'Purchase_Probability', 'Is_Potential_Customer']].head())"
      ],
      "metadata": {
        "colab": {
          "base_uri": "https://localhost:8080/"
        },
        "id": "xdhXoi3I-4kr",
        "outputId": "09e99307-4789-4f0a-d1c3-1c76996effe2"
      },
      "execution_count": null,
      "outputs": [
        {
          "output_type": "stream",
          "name": "stdout",
          "text": [
            "\n",
            "Using a probability threshold of: 0.5\n",
            "\n",
            "Indian Dataset with Potential Customer Flag (first 5 rows):\n",
            "           ID  Purchase_Probability  Is_Potential_Customer\n",
            "0  20710B05XL              0.811367                      1\n",
            "1  89602T51HX              0.895025                      1\n",
            "2  70190Z52IP              0.553382                      1\n",
            "3  25623V15MU              0.621466                      1\n",
            "4  36230I68CE              0.477122                      0\n"
          ]
        }
      ]
    },
    {
      "cell_type": "markdown",
      "source": [
        "5.4 Count Potential Customers"
      ],
      "metadata": {
        "id": "cYyH55QS-_RT"
      }
    },
    {
      "cell_type": "code",
      "source": [
        "potential_customer_count = df_india['Is_Potential_Customer'].sum()\n",
        "\n",
        "print(f\"\\nTotal potential customers in the Indian market (based on phone purchase model): {potential_customer_count}\")"
      ],
      "metadata": {
        "colab": {
          "base_uri": "https://localhost:8080/"
        },
        "id": "t0coviEn-9zm",
        "outputId": "020a8e4a-ca84-4fae-bdef-040b43806a4a"
      },
      "execution_count": null,
      "outputs": [
        {
          "output_type": "stream",
          "name": "stdout",
          "text": [
            "\n",
            "Total potential customers in the Indian market (based on phone purchase model): 55881\n"
          ]
        }
      ]
    },
    {
      "cell_type": "markdown",
      "source": [
        "5.5 Relate to Car Sales Forecast (Business Context)"
      ],
      "metadata": {
        "id": "5Oo-lcs-_FpY"
      }
    },
    {
      "cell_type": "markdown",
      "source": [
        "Step 6: Visualization using Power BI"
      ],
      "metadata": {
        "id": "WHo522QF_m7O"
      }
    },
    {
      "cell_type": "markdown",
      "source": [
        "6.1 Prepare Data for Power BI"
      ],
      "metadata": {
        "id": "Wy4f9P5D_sDW"
      }
    },
    {
      "cell_type": "code",
      "source": [
        "# Ensure df_japan is the final processed Japanese DataFrame\n",
        "\n",
        "df_japan.to_csv('JPN_Processed_Data.csv', index=False)\n",
        "print(\"Processed Japanese data saved to JPN_Processed_Data.csv\")\n",
        "\n",
        "# Ensure df_india is the final processed Indian DataFrame with probabilities and potential customer flags\n",
        "\n",
        "df_india.to_csv('IN_Processed_Data.csv', index=False)\n",
        "print(\"Processed Indian data saved to IN_Processed_Data.csv\")"
      ],
      "metadata": {
        "colab": {
          "base_uri": "https://localhost:8080/"
        },
        "id": "S0szsnmu_vCv",
        "outputId": "90d511f5-088d-4386-b4f4-b71b84ce3958"
      },
      "execution_count": null,
      "outputs": [
        {
          "output_type": "stream",
          "name": "stdout",
          "text": [
            "Processed Japanese data saved to JPN_Processed_Data.csv\n",
            "Processed Indian data saved to IN_Processed_Data.csv\n"
          ]
        }
      ]
    },
    {
      "cell_type": "code",
      "source": [],
      "metadata": {
        "id": "k67ngmWA_lUq"
      },
      "execution_count": null,
      "outputs": []
    }
  ]
}