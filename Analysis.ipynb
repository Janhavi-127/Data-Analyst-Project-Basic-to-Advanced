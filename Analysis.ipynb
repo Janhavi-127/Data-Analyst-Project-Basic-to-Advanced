{
  "nbformat": 4,
  "nbformat_minor": 0,
  "metadata": {
    "colab": {
      "provenance": [],
      "authorship_tag": "ABX9TyPbJLGLzX2MlyRm0MhVcMy2",
      "include_colab_link": true
    },
    "kernelspec": {
      "name": "python3",
      "display_name": "Python 3"
    },
    "language_info": {
      "name": "python"
    }
  },
  "cells": [
    {
      "cell_type": "markdown",
      "metadata": {
        "id": "view-in-github",
        "colab_type": "text"
      },
      "source": [
        "<a href=\"https://colab.research.google.com/github/Janhavi-127/Data-Analyst-Project-Basic-to-Advanced/blob/main/Analysis.ipynb\" target=\"_parent\"><img src=\"https://colab.research.google.com/assets/colab-badge.svg\" alt=\"Open In Colab\"/></a>"
      ]
    },
    {
      "cell_type": "markdown",
      "source": [
        "**Load the dataset**"
      ],
      "metadata": {
        "id": "lGFfd2dyoXKI"
      }
    },
    {
      "cell_type": "code",
      "source": [
        "import pandas as pd\n",
        "\n",
        "df = pd.read_csv(\"Tableau Dataset.csv\")"
      ],
      "metadata": {
        "id": "IzmYFuWuofJT"
      },
      "execution_count": null,
      "outputs": []
    },
    {
      "cell_type": "code",
      "source": [
        "df.shape"
      ],
      "metadata": {
        "colab": {
          "base_uri": "https://localhost:8080/"
        },
        "id": "XGS7TZIY0N_L",
        "outputId": "7c71296a-65f6-4242-f4d9-3cf7f2065642"
      },
      "execution_count": null,
      "outputs": [
        {
          "output_type": "execute_result",
          "data": {
            "text/plain": [
              "(50, 6)"
            ]
          },
          "metadata": {},
          "execution_count": 51
        }
      ]
    },
    {
      "cell_type": "code",
      "source": [
        "df.head()"
      ],
      "metadata": {
        "colab": {
          "base_uri": "https://localhost:8080/",
          "height": 206
        },
        "id": "rjT9o_K_1XT1",
        "outputId": "3df84c16-b3e5-4452-80a0-03c048357293"
      },
      "execution_count": null,
      "outputs": [
        {
          "output_type": "execute_result",
          "data": {
            "text/plain": [
              "    Product Description    Client Name   Balance Outstanding  Interest Rate   \\\n",
              "0   Product E              Client5                       5000             9%   \n",
              "1   Product E              Client10                     10000             9%   \n",
              "2   Product E              Client5                      15000             9%   \n",
              "3   Product E              Client10                     20000             9%   \n",
              "4   Product E              Client5                      25000             9%   \n",
              "\n",
              "    Reporting Date    Client Code   \n",
              "0   2022-05-31        Code5         \n",
              "1   2022-10-31        Code10        \n",
              "2   2023-03-31        Code15        \n",
              "3   2023-08-31        Code20        \n",
              "4   2024-01-31        Code25        "
            ],
            "text/html": [
              "\n",
              "  <div id=\"df-6a300f37-b6b5-45be-884d-5b99ddf31465\" class=\"colab-df-container\">\n",
              "    <div>\n",
              "<style scoped>\n",
              "    .dataframe tbody tr th:only-of-type {\n",
              "        vertical-align: middle;\n",
              "    }\n",
              "\n",
              "    .dataframe tbody tr th {\n",
              "        vertical-align: top;\n",
              "    }\n",
              "\n",
              "    .dataframe thead th {\n",
              "        text-align: right;\n",
              "    }\n",
              "</style>\n",
              "<table border=\"1\" class=\"dataframe\">\n",
              "  <thead>\n",
              "    <tr style=\"text-align: right;\">\n",
              "      <th></th>\n",
              "      <th>Product Description</th>\n",
              "      <th>Client Name</th>\n",
              "      <th>Balance Outstanding</th>\n",
              "      <th>Interest Rate</th>\n",
              "      <th>Reporting Date</th>\n",
              "      <th>Client Code</th>\n",
              "    </tr>\n",
              "  </thead>\n",
              "  <tbody>\n",
              "    <tr>\n",
              "      <th>0</th>\n",
              "      <td>Product E</td>\n",
              "      <td>Client5</td>\n",
              "      <td>5000</td>\n",
              "      <td>9%</td>\n",
              "      <td>2022-05-31</td>\n",
              "      <td>Code5</td>\n",
              "    </tr>\n",
              "    <tr>\n",
              "      <th>1</th>\n",
              "      <td>Product E</td>\n",
              "      <td>Client10</td>\n",
              "      <td>10000</td>\n",
              "      <td>9%</td>\n",
              "      <td>2022-10-31</td>\n",
              "      <td>Code10</td>\n",
              "    </tr>\n",
              "    <tr>\n",
              "      <th>2</th>\n",
              "      <td>Product E</td>\n",
              "      <td>Client5</td>\n",
              "      <td>15000</td>\n",
              "      <td>9%</td>\n",
              "      <td>2023-03-31</td>\n",
              "      <td>Code15</td>\n",
              "    </tr>\n",
              "    <tr>\n",
              "      <th>3</th>\n",
              "      <td>Product E</td>\n",
              "      <td>Client10</td>\n",
              "      <td>20000</td>\n",
              "      <td>9%</td>\n",
              "      <td>2023-08-31</td>\n",
              "      <td>Code20</td>\n",
              "    </tr>\n",
              "    <tr>\n",
              "      <th>4</th>\n",
              "      <td>Product E</td>\n",
              "      <td>Client5</td>\n",
              "      <td>25000</td>\n",
              "      <td>9%</td>\n",
              "      <td>2024-01-31</td>\n",
              "      <td>Code25</td>\n",
              "    </tr>\n",
              "  </tbody>\n",
              "</table>\n",
              "</div>\n",
              "    <div class=\"colab-df-buttons\">\n",
              "\n",
              "  <div class=\"colab-df-container\">\n",
              "    <button class=\"colab-df-convert\" onclick=\"convertToInteractive('df-6a300f37-b6b5-45be-884d-5b99ddf31465')\"\n",
              "            title=\"Convert this dataframe to an interactive table.\"\n",
              "            style=\"display:none;\">\n",
              "\n",
              "  <svg xmlns=\"http://www.w3.org/2000/svg\" height=\"24px\" viewBox=\"0 -960 960 960\">\n",
              "    <path d=\"M120-120v-720h720v720H120Zm60-500h600v-160H180v160Zm220 220h160v-160H400v160Zm0 220h160v-160H400v160ZM180-400h160v-160H180v160Zm440 0h160v-160H620v160ZM180-180h160v-160H180v160Zm440 0h160v-160H620v160Z\"/>\n",
              "  </svg>\n",
              "    </button>\n",
              "\n",
              "  <style>\n",
              "    .colab-df-container {\n",
              "      display:flex;\n",
              "      gap: 12px;\n",
              "    }\n",
              "\n",
              "    .colab-df-convert {\n",
              "      background-color: #E8F0FE;\n",
              "      border: none;\n",
              "      border-radius: 50%;\n",
              "      cursor: pointer;\n",
              "      display: none;\n",
              "      fill: #1967D2;\n",
              "      height: 32px;\n",
              "      padding: 0 0 0 0;\n",
              "      width: 32px;\n",
              "    }\n",
              "\n",
              "    .colab-df-convert:hover {\n",
              "      background-color: #E2EBFA;\n",
              "      box-shadow: 0px 1px 2px rgba(60, 64, 67, 0.3), 0px 1px 3px 1px rgba(60, 64, 67, 0.15);\n",
              "      fill: #174EA6;\n",
              "    }\n",
              "\n",
              "    .colab-df-buttons div {\n",
              "      margin-bottom: 4px;\n",
              "    }\n",
              "\n",
              "    [theme=dark] .colab-df-convert {\n",
              "      background-color: #3B4455;\n",
              "      fill: #D2E3FC;\n",
              "    }\n",
              "\n",
              "    [theme=dark] .colab-df-convert:hover {\n",
              "      background-color: #434B5C;\n",
              "      box-shadow: 0px 1px 3px 1px rgba(0, 0, 0, 0.15);\n",
              "      filter: drop-shadow(0px 1px 2px rgba(0, 0, 0, 0.3));\n",
              "      fill: #FFFFFF;\n",
              "    }\n",
              "  </style>\n",
              "\n",
              "    <script>\n",
              "      const buttonEl =\n",
              "        document.querySelector('#df-6a300f37-b6b5-45be-884d-5b99ddf31465 button.colab-df-convert');\n",
              "      buttonEl.style.display =\n",
              "        google.colab.kernel.accessAllowed ? 'block' : 'none';\n",
              "\n",
              "      async function convertToInteractive(key) {\n",
              "        const element = document.querySelector('#df-6a300f37-b6b5-45be-884d-5b99ddf31465');\n",
              "        const dataTable =\n",
              "          await google.colab.kernel.invokeFunction('convertToInteractive',\n",
              "                                                    [key], {});\n",
              "        if (!dataTable) return;\n",
              "\n",
              "        const docLinkHtml = 'Like what you see? Visit the ' +\n",
              "          '<a target=\"_blank\" href=https://colab.research.google.com/notebooks/data_table.ipynb>data table notebook</a>'\n",
              "          + ' to learn more about interactive tables.';\n",
              "        element.innerHTML = '';\n",
              "        dataTable['output_type'] = 'display_data';\n",
              "        await google.colab.output.renderOutput(dataTable, element);\n",
              "        const docLink = document.createElement('div');\n",
              "        docLink.innerHTML = docLinkHtml;\n",
              "        element.appendChild(docLink);\n",
              "      }\n",
              "    </script>\n",
              "  </div>\n",
              "\n",
              "\n",
              "    <div id=\"df-ec9c61f2-2516-4bc9-b2c5-6aa8837e8d9c\">\n",
              "      <button class=\"colab-df-quickchart\" onclick=\"quickchart('df-ec9c61f2-2516-4bc9-b2c5-6aa8837e8d9c')\"\n",
              "                title=\"Suggest charts\"\n",
              "                style=\"display:none;\">\n",
              "\n",
              "<svg xmlns=\"http://www.w3.org/2000/svg\" height=\"24px\"viewBox=\"0 0 24 24\"\n",
              "     width=\"24px\">\n",
              "    <g>\n",
              "        <path d=\"M19 3H5c-1.1 0-2 .9-2 2v14c0 1.1.9 2 2 2h14c1.1 0 2-.9 2-2V5c0-1.1-.9-2-2-2zM9 17H7v-7h2v7zm4 0h-2V7h2v10zm4 0h-2v-4h2v4z\"/>\n",
              "    </g>\n",
              "</svg>\n",
              "      </button>\n",
              "\n",
              "<style>\n",
              "  .colab-df-quickchart {\n",
              "      --bg-color: #E8F0FE;\n",
              "      --fill-color: #1967D2;\n",
              "      --hover-bg-color: #E2EBFA;\n",
              "      --hover-fill-color: #174EA6;\n",
              "      --disabled-fill-color: #AAA;\n",
              "      --disabled-bg-color: #DDD;\n",
              "  }\n",
              "\n",
              "  [theme=dark] .colab-df-quickchart {\n",
              "      --bg-color: #3B4455;\n",
              "      --fill-color: #D2E3FC;\n",
              "      --hover-bg-color: #434B5C;\n",
              "      --hover-fill-color: #FFFFFF;\n",
              "      --disabled-bg-color: #3B4455;\n",
              "      --disabled-fill-color: #666;\n",
              "  }\n",
              "\n",
              "  .colab-df-quickchart {\n",
              "    background-color: var(--bg-color);\n",
              "    border: none;\n",
              "    border-radius: 50%;\n",
              "    cursor: pointer;\n",
              "    display: none;\n",
              "    fill: var(--fill-color);\n",
              "    height: 32px;\n",
              "    padding: 0;\n",
              "    width: 32px;\n",
              "  }\n",
              "\n",
              "  .colab-df-quickchart:hover {\n",
              "    background-color: var(--hover-bg-color);\n",
              "    box-shadow: 0 1px 2px rgba(60, 64, 67, 0.3), 0 1px 3px 1px rgba(60, 64, 67, 0.15);\n",
              "    fill: var(--button-hover-fill-color);\n",
              "  }\n",
              "\n",
              "  .colab-df-quickchart-complete:disabled,\n",
              "  .colab-df-quickchart-complete:disabled:hover {\n",
              "    background-color: var(--disabled-bg-color);\n",
              "    fill: var(--disabled-fill-color);\n",
              "    box-shadow: none;\n",
              "  }\n",
              "\n",
              "  .colab-df-spinner {\n",
              "    border: 2px solid var(--fill-color);\n",
              "    border-color: transparent;\n",
              "    border-bottom-color: var(--fill-color);\n",
              "    animation:\n",
              "      spin 1s steps(1) infinite;\n",
              "  }\n",
              "\n",
              "  @keyframes spin {\n",
              "    0% {\n",
              "      border-color: transparent;\n",
              "      border-bottom-color: var(--fill-color);\n",
              "      border-left-color: var(--fill-color);\n",
              "    }\n",
              "    20% {\n",
              "      border-color: transparent;\n",
              "      border-left-color: var(--fill-color);\n",
              "      border-top-color: var(--fill-color);\n",
              "    }\n",
              "    30% {\n",
              "      border-color: transparent;\n",
              "      border-left-color: var(--fill-color);\n",
              "      border-top-color: var(--fill-color);\n",
              "      border-right-color: var(--fill-color);\n",
              "    }\n",
              "    40% {\n",
              "      border-color: transparent;\n",
              "      border-right-color: var(--fill-color);\n",
              "      border-top-color: var(--fill-color);\n",
              "    }\n",
              "    60% {\n",
              "      border-color: transparent;\n",
              "      border-right-color: var(--fill-color);\n",
              "    }\n",
              "    80% {\n",
              "      border-color: transparent;\n",
              "      border-right-color: var(--fill-color);\n",
              "      border-bottom-color: var(--fill-color);\n",
              "    }\n",
              "    90% {\n",
              "      border-color: transparent;\n",
              "      border-bottom-color: var(--fill-color);\n",
              "    }\n",
              "  }\n",
              "</style>\n",
              "\n",
              "      <script>\n",
              "        async function quickchart(key) {\n",
              "          const quickchartButtonEl =\n",
              "            document.querySelector('#' + key + ' button');\n",
              "          quickchartButtonEl.disabled = true;  // To prevent multiple clicks.\n",
              "          quickchartButtonEl.classList.add('colab-df-spinner');\n",
              "          try {\n",
              "            const charts = await google.colab.kernel.invokeFunction(\n",
              "                'suggestCharts', [key], {});\n",
              "          } catch (error) {\n",
              "            console.error('Error during call to suggestCharts:', error);\n",
              "          }\n",
              "          quickchartButtonEl.classList.remove('colab-df-spinner');\n",
              "          quickchartButtonEl.classList.add('colab-df-quickchart-complete');\n",
              "        }\n",
              "        (() => {\n",
              "          let quickchartButtonEl =\n",
              "            document.querySelector('#df-ec9c61f2-2516-4bc9-b2c5-6aa8837e8d9c button');\n",
              "          quickchartButtonEl.style.display =\n",
              "            google.colab.kernel.accessAllowed ? 'block' : 'none';\n",
              "        })();\n",
              "      </script>\n",
              "    </div>\n",
              "\n",
              "    </div>\n",
              "  </div>\n"
            ],
            "application/vnd.google.colaboratory.intrinsic+json": {
              "type": "dataframe",
              "variable_name": "df",
              "summary": "{\n  \"name\": \"df\",\n  \"rows\": 50,\n  \"fields\": [\n    {\n      \"column\": \" Product Description \",\n      \"properties\": {\n        \"dtype\": \"category\",\n        \"num_unique_values\": 5,\n        \"samples\": [\n          \" Product D           \",\n          \" Product A           \",\n          \" Product C           \"\n        ],\n        \"semantic_type\": \"\",\n        \"description\": \"\"\n      }\n    },\n    {\n      \"column\": \" Client Name \",\n      \"properties\": {\n        \"dtype\": \"category\",\n        \"num_unique_values\": 10,\n        \"samples\": [\n          \" Client1     \",\n          \" Client10    \",\n          \" Client8     \"\n        ],\n        \"semantic_type\": \"\",\n        \"description\": \"\"\n      }\n    },\n    {\n      \"column\": \" Balance Outstanding \",\n      \"properties\": {\n        \"dtype\": \"number\",\n        \"std\": 14577,\n        \"min\": 1000,\n        \"max\": 50000,\n        \"num_unique_values\": 50,\n        \"samples\": [\n          19000,\n          47000,\n          2000\n        ],\n        \"semantic_type\": \"\",\n        \"description\": \"\"\n      }\n    },\n    {\n      \"column\": \" Interest Rate \",\n      \"properties\": {\n        \"dtype\": \"category\",\n        \"num_unique_values\": 5,\n        \"samples\": [\n          \"8%\",\n          \"5%\",\n          \"7%\"\n        ],\n        \"semantic_type\": \"\",\n        \"description\": \"\"\n      }\n    },\n    {\n      \"column\": \" Reporting Date \",\n      \"properties\": {\n        \"dtype\": \"object\",\n        \"num_unique_values\": 50,\n        \"samples\": [\n          \" 2023-07-31     \",\n          \" 2025-11-30     \",\n          \" 2022-02-28     \"\n        ],\n        \"semantic_type\": \"\",\n        \"description\": \"\"\n      }\n    },\n    {\n      \"column\": \" Client Code \",\n      \"properties\": {\n        \"dtype\": \"string\",\n        \"num_unique_values\": 50,\n        \"samples\": [\n          \" Code19      \",\n          \" Code47      \",\n          \" Code2       \"\n        ],\n        \"semantic_type\": \"\",\n        \"description\": \"\"\n      }\n    }\n  ]\n}"
            }
          },
          "metadata": {},
          "execution_count": 17
        }
      ]
    },
    {
      "cell_type": "markdown",
      "source": [
        "**Clean column names (optional but recommended)**"
      ],
      "metadata": {
        "id": "dyNhmIKPM3hK"
      }
    },
    {
      "cell_type": "code",
      "source": [
        "df.columns = df.columns.str.strip()\n",
        "print(df.columns)"
      ],
      "metadata": {
        "colab": {
          "base_uri": "https://localhost:8080/"
        },
        "id": "8wSsrYdS2Kyw",
        "outputId": "1b2e5c07-b49d-4551-b885-4e23b73b8062"
      },
      "execution_count": null,
      "outputs": [
        {
          "output_type": "stream",
          "name": "stdout",
          "text": [
            "Index(['Product Description', 'Client Name', 'Balance Outstanding',\n",
            "       'Interest Rate', 'Reporting Date', 'Client Code'],\n",
            "      dtype='object')\n"
          ]
        }
      ]
    },
    {
      "cell_type": "markdown",
      "source": [
        "**Verify if required columns exist**"
      ],
      "metadata": {
        "id": "HIXL7i2QMocW"
      }
    },
    {
      "cell_type": "code",
      "source": [
        "print('Interest Rate' in df.columns)\n",
        "print('Balance Outstanding' in df.columns)"
      ],
      "metadata": {
        "colab": {
          "base_uri": "https://localhost:8080/"
        },
        "id": "J0wcNiMj2QI7",
        "outputId": "3eb6ed13-1e72-4423-8553-c36fb44e52a1"
      },
      "execution_count": null,
      "outputs": [
        {
          "output_type": "stream",
          "name": "stdout",
          "text": [
            "True\n",
            "True\n"
          ]
        }
      ]
    },
    {
      "cell_type": "markdown",
      "source": [
        "**Assign the correct column names to variables**"
      ],
      "metadata": {
        "id": "Q5Z4KReuMh4S"
      }
    },
    {
      "cell_type": "code",
      "source": [
        "x_col = 'Interest Rate'  # or replace with exact name from STEP 1\n",
        "y_col = 'Balance Outstanding'  # or replace\n"
      ],
      "metadata": {
        "id": "XlddjoxZ2Z1t"
      },
      "execution_count": null,
      "outputs": []
    },
    {
      "cell_type": "markdown",
      "source": [
        "**1 Analyze Outstanding Balances vs. Interest Rates**"
      ],
      "metadata": {
        "id": "-ffA12fNNfbg"
      }
    },
    {
      "cell_type": "markdown",
      "source": [
        "**Plot the boxplot**"
      ],
      "metadata": {
        "id": "TMYGi-1JMMwk"
      }
    },
    {
      "cell_type": "code",
      "source": [
        "import seaborn as sns\n",
        "import matplotlib.pyplot as plt\n",
        "\n",
        "sns.boxplot(x=x_col, y=y_col, data=df)\n",
        "plt.title('Distribution of Outstanding Balances across Interest Rates')\n",
        "plt.xticks(rotation=45)\n",
        "plt.tight_layout()\n",
        "plt.show()\n"
      ],
      "metadata": {
        "colab": {
          "base_uri": "https://localhost:8080/",
          "height": 487
        },
        "id": "lCQscihC2gCG",
        "outputId": "6aa3b840-c9d2-434a-8f12-aed6caf69a16"
      },
      "execution_count": null,
      "outputs": [
        {
          "output_type": "display_data",
          "data": {
            "text/plain": [
              "<Figure size 640x480 with 1 Axes>"
            ],
            "image/png": "[encoded data removed]"
          },
          "metadata": {}
        }
      ]
    },
    {
      "cell_type": "markdown",
      "source": [
        "**Select the correct columns**"
      ],
      "metadata": {
        "id": "cCvI7vDlMDfT"
      }
    },
    {
      "cell_type": "code",
      "source": [
        "x_col = 'Interest Rate'  # Replace if name is different\n",
        "y_col = 'Balance Outstanding'  # Replace if name is different\n",
        "\n",
        "selected_df = df[[x_col, y_col]]\n",
        "print(selected_df.head())\n"
      ],
      "metadata": {
        "colab": {
          "base_uri": "https://localhost:8080/"
        },
        "id": "iPtfT5kW5uLD",
        "outputId": "0fc422e5-8788-4bc4-8645-8d3ac1b68905"
      },
      "execution_count": null,
      "outputs": [
        {
          "output_type": "stream",
          "name": "stdout",
          "text": [
            "  Interest Rate  Balance Outstanding\n",
            "0            9%                 5000\n",
            "1            9%                10000\n",
            "2            9%                15000\n",
            "3            9%                20000\n",
            "4            9%                25000\n"
          ]
        }
      ]
    },
    {
      "cell_type": "markdown",
      "source": [
        "**2 Correlation Between Interest Rate and Outstanding Balance**"
      ],
      "metadata": {
        "id": "PcTggxH-N9YA"
      }
    },
    {
      "cell_type": "markdown",
      "source": [
        "**Remove % and convert to float**"
      ],
      "metadata": {
        "id": "eIKry8kCSiyC"
      }
    },
    {
      "cell_type": "code",
      "source": [
        "df['Interest Rate'] = df['Interest Rate'].str.replace('%', '').astype(float)\n"
      ],
      "metadata": {
        "id": "Vr6fQwnOSGJg"
      },
      "execution_count": null,
      "outputs": []
    },
    {
      "cell_type": "markdown",
      "source": [
        "**Verify the conversion**"
      ],
      "metadata": {
        "id": "yBOcLjhuSlvG"
      }
    },
    {
      "cell_type": "code",
      "source": [
        "print(df['Interest Rate'].head())\n",
        "print(df.dtypes)\n"
      ],
      "metadata": {
        "colab": {
          "base_uri": "https://localhost:8080/"
        },
        "id": "f0laFb0-SMAx",
        "outputId": "40245bfb-5b5a-4745-c3c0-e03b1d3bc23b"
      },
      "execution_count": null,
      "outputs": [
        {
          "output_type": "stream",
          "name": "stdout",
          "text": [
            "0    9.0\n",
            "1    9.0\n",
            "2    9.0\n",
            "3    9.0\n",
            "4    9.0\n",
            "Name: Interest Rate, dtype: float64\n",
            "Product Description     object\n",
            "Client Name             object\n",
            "Balance Outstanding      int64\n",
            "Interest Rate          float64\n",
            "Reporting Date          object\n",
            "Client Code             object\n",
            "dtype: object\n"
          ]
        }
      ]
    },
    {
      "cell_type": "markdown",
      "source": [
        "**Calculate the correlation**"
      ],
      "metadata": {
        "id": "rTNr9pQSL6B4"
      }
    },
    {
      "cell_type": "code",
      "source": [
        "selected_df = df[['Interest Rate', 'Balance Outstanding']]\n",
        "correlation = selected_df.corr()\n",
        "print(correlation)\n"
      ],
      "metadata": {
        "colab": {
          "base_uri": "https://localhost:8080/"
        },
        "id": "yQW3p4Rs7LKt",
        "outputId": "3cb14f1b-8daa-4095-b07f-f0bf0456878c"
      },
      "execution_count": null,
      "outputs": [
        {
          "output_type": "stream",
          "name": "stdout",
          "text": [
            "                     Interest Rate  Balance Outstanding\n",
            "Interest Rate             1.000000             0.097999\n",
            "Balance Outstanding       0.097999             1.000000\n"
          ]
        }
      ]
    },
    {
      "cell_type": "markdown",
      "source": [
        "**Plot the heatmap**"
      ],
      "metadata": {
        "id": "j3JcVMUlLx67"
      }
    },
    {
      "cell_type": "code",
      "source": [
        "import seaborn as sns\n",
        "import matplotlib.pyplot as plt\n",
        "\n",
        "sns.heatmap(correlation, annot=True, cmap='coolwarm')\n",
        "plt.title('Correlation Matrix')\n",
        "plt.show()\n"
      ],
      "metadata": {
        "colab": {
          "base_uri": "https://localhost:8080/",
          "height": 452
        },
        "id": "OvV0kdwk7Zi7",
        "outputId": "afe3cfc5-d2e1-461c-b137-f8e8a8621f21"
      },
      "execution_count": null,
      "outputs": [
        {
          "output_type": "display_data",
          "data": {
            "text/plain": [
              "<Figure size 640x480 with 2 Axes>"
            ],
            "image/png": "[encoded data removed]"
          },
          "metadata": {}
        }
      ]
    },
    {
      "cell_type": "markdown",
      "source": [
        "**3 Top 5 Clients with Highest Balances Over Time**"
      ],
      "metadata": {
        "id": "YYvFfynROX9S"
      }
    },
    {
      "cell_type": "markdown",
      "source": [
        "**Convert 'Reporting Date' to datetime**"
      ],
      "metadata": {
        "id": "8UKzX4i4KoqA"
      }
    },
    {
      "cell_type": "code",
      "source": [
        "df['Reporting Date'] = pd.to_datetime(df['Reporting Date'])\n",
        "print(df['Reporting Date'].head())"
      ],
      "metadata": {
        "colab": {
          "base_uri": "https://localhost:8080/"
        },
        "id": "kyN5NXpfH44c",
        "outputId": "a9dfa030-9b53-47a4-e79e-635f5c01db38"
      },
      "execution_count": null,
      "outputs": [
        {
          "output_type": "stream",
          "name": "stdout",
          "text": [
            "0   2022-05-31\n",
            "1   2022-10-31\n",
            "2   2023-03-31\n",
            "3   2023-08-31\n",
            "4   2024-01-31\n",
            "Name: Reporting Date, dtype: datetime64[ns]\n"
          ]
        }
      ]
    },
    {
      "cell_type": "markdown",
      "source": [
        "**Find total outstanding balance for each client**"
      ],
      "metadata": {
        "id": "DuvhtvUxLUiw"
      }
    },
    {
      "cell_type": "code",
      "source": [
        "client_balances = df.groupby('Client Name')['Balance Outstanding'].sum()\n",
        "print(client_balances.sort_values(ascending=False))\n"
      ],
      "metadata": {
        "colab": {
          "base_uri": "https://localhost:8080/"
        },
        "id": "ulsotdxGH9EX",
        "outputId": "cc25e5f1-8370-45e3-dee0-9af00e7175b4"
      },
      "execution_count": null,
      "outputs": [
        {
          "output_type": "stream",
          "name": "stdout",
          "text": [
            "Client Name\n",
            "Client10        150000\n",
            "Client9         145000\n",
            "Client8         140000\n",
            "Client7         135000\n",
            "Client6         130000\n",
            "Client5         125000\n",
            "Client4         120000\n",
            "Client3         115000\n",
            "Client2         110000\n",
            "Client1         105000\n",
            "Name: Balance Outstanding, dtype: int64\n"
          ]
        }
      ]
    },
    {
      "cell_type": "markdown",
      "source": [
        "**Get top 5 clients**"
      ],
      "metadata": {
        "id": "jXLbTlv1LC7L"
      }
    },
    {
      "cell_type": "code",
      "source": [
        "top_clients = client_balances.sort_values(ascending=False).head(5).index\n",
        "print(top_clients)"
      ],
      "metadata": {
        "colab": {
          "base_uri": "https://localhost:8080/"
        },
        "id": "Ae3yu4ErLFp9",
        "outputId": "9e20d957-1f8f-4b12-8051-363ba4e27cce"
      },
      "execution_count": null,
      "outputs": [
        {
          "output_type": "stream",
          "name": "stdout",
          "text": [
            "Index([' Client10    ', ' Client9     ', ' Client8     ', ' Client7     ',\n",
            "       ' Client6     '],\n",
            "      dtype='object', name='Client Name')\n"
          ]
        }
      ]
    },
    {
      "cell_type": "markdown",
      "source": [
        "**Filter data to include only top clients**"
      ],
      "metadata": {
        "id": "AUdoKRerKEMx"
      }
    },
    {
      "cell_type": "code",
      "source": [
        "# Assuming you want to select top clients based on 'Balance Outstanding'\n",
        "# You may need to adjust the number (e.g., 10) to get the desired number of top clients\n",
        "top_clients = df.groupby('Client Name')['Balance Outstanding'].sum().nlargest(10).index\n",
        "\n",
        "filtered_df = df[df['Client Name'].isin(top_clients)]\n",
        "print(filtered_df.head())\n"
      ],
      "metadata": {
        "colab": {
          "base_uri": "https://localhost:8080/"
        },
        "id": "uK1llGwnIjWD",
        "outputId": "03275752-1b83-4c62-ae79-2f5cdce6b354"
      },
      "execution_count": null,
      "outputs": [
        {
          "output_type": "stream",
          "name": "stdout",
          "text": [
            "     Product Description    Client Name  Balance Outstanding  Interest Rate  \\\n",
            "0   Product E              Client5                      5000            9.0   \n",
            "1   Product E              Client10                    10000            9.0   \n",
            "2   Product E              Client5                     15000            9.0   \n",
            "3   Product E              Client10                    20000            9.0   \n",
            "4   Product E              Client5                     25000            9.0   \n",
            "\n",
            "  Reporting Date    Client Code  \n",
            "0     2022-05-31   Code5         \n",
            "1     2022-10-31   Code10        \n",
            "2     2023-03-31   Code15        \n",
            "3     2023-08-31   Code20        \n",
            "4     2024-01-31   Code25        \n"
          ]
        }
      ]
    },
    {
      "cell_type": "markdown",
      "source": [
        "**Plot line chart**"
      ],
      "metadata": {
        "id": "DORHIlV1Ji_3"
      }
    },
    {
      "cell_type": "code",
      "source": [
        "import plotly.express as px\n",
        "\n",
        "fig = px.line(filtered_df, x='Reporting Date', y='Balance Outstanding',\n",
        "              color='Client Name', title='Top 5 Clients with Highest Balances Over Time') # Changed 'Client' to 'Client Name'\n",
        "fig.show()\n"
      ],
      "metadata": {
        "colab": {
          "base_uri": "https://localhost:8080/",
          "height": 542
        },
        "id": "fSEMogXAI3NF",
        "outputId": "00b31fe2-3731-43a2-e8e3-2fafb35c8d74"
      },
      "execution_count": null,
      "outputs": [
        {
          "output_type": "display_data",
          "data": {
            "text/html": [
              "<html>\n",
              "<head><meta charset=\"utf-8\" /></head>\n",
              "<body>\n",
              "    <div>            <script src=\"https://cdnjs.cloudflare.com/ajax/libs/mathjax/2.7.5/MathJax.js?config=TeX-AMS-MML_SVG\"></script><script type=\"text/javascript\">if (window.MathJax && window.MathJax.Hub && window.MathJax.Hub.Config) {window.MathJax.Hub.Config({SVG: {font: \"STIX-Web\"}});}</script>                <script type=\"text/javascript\">window.PlotlyConfig = {MathJaxConfig: 'local'};</script>\n",
              "        <script charset=\"utf-8\" src=\"https://cdn.plot.ly/plotly-2.35.2.min.js\"></script>                <div id=\"11ca5d86-f6f6-4c0b-950d-ab1c30d6a16e\" class=\"plotly-graph-div\" style=\"height:525px; width:100%;\"></div>            <script type=\"text/javascript\">                                    window.PLOTLYENV=window.PLOTLYENV || {};                                    if (document.getElementById(\"11ca5d86-f6f6-4c0b-950d-ab1c30d6a16e\")) {                    Plotly.newPlot(                        \"11ca5d86-f6f6-4c0b-950d-ab1c30d6a16e\",                        [{\"hovertemplate\":\"Client Name= Client5     \\u003cbr\\u003eReporting Date=%{x}\\u003cbr\\u003eBalance Outstanding=%{y}\\u003cextra\\u003e\\u003c\\u002fextra\\u003e\",\"legendgroup\":\" Client5     \",\"line\":{\"color\":\"#636efa\",\"dash\":\"solid\"},\"marker\":{\"symbol\":\"circle\"},\"mode\":\"lines\",\"name\":\" Client5     \",\"orientation\":\"v\",\"showlegend\":true,\"x\":[\"2022-05-31T00:00:00\",\"2023-03-31T00:00:00\",\"2024-01-31T00:00:00\",\"2024-11-30T00:00:00\",\"2025-09-30T00:00:00\"],\"xaxis\":\"x\",\"y\":[5000,15000,25000,35000,45000],\"yaxis\":\"y\",\"type\":\"scatter\"},{\"hovertemplate\":\"Client Name= Client10    \\u003cbr\\u003eReporting Date=%{x}\\u003cbr\\u003eBalance Outstanding=%{y}\\u003cextra\\u003e\\u003c\\u002fextra\\u003e\",\"legendgroup\":\" Client10    \",\"line\":{\"color\":\"#EF553B\",\"dash\":\"solid\"},\"marker\":{\"symbol\":\"circle\"},\"mode\":\"lines\",\"name\":\" Client10    \",\"orientation\":\"v\",\"showlegend\":true,\"x\":[\"2022-10-31T00:00:00\",\"2023-08-31T00:00:00\",\"2024-06-30T00:00:00\",\"2025-04-30T00:00:00\",\"2026-02-28T00:00:00\"],\"xaxis\":\"x\",\"y\":[10000,20000,30000,40000,50000],\"yaxis\":\"y\",\"type\":\"scatter\"},{\"hovertemplate\":\"Client Name= Client4     \\u003cbr\\u003eReporting Date=%{x}\\u003cbr\\u003eBalance Outstanding=%{y}\\u003cextra\\u003e\\u003c\\u002fextra\\u003e\",\"legendgroup\":\" Client4     \",\"line\":{\"color\":\"#00cc96\",\"dash\":\"solid\"},\"marker\":{\"symbol\":\"circle\"},\"mode\":\"lines\",\"name\":\" Client4     \",\"orientation\":\"v\",\"showlegend\":true,\"x\":[\"2022-04-30T00:00:00\",\"2023-02-28T00:00:00\",\"2023-12-31T00:00:00\",\"2024-10-31T00:00:00\",\"2025-08-31T00:00:00\"],\"xaxis\":\"x\",\"y\":[4000,14000,24000,34000,44000],\"yaxis\":\"y\",\"type\":\"scatter\"},{\"hovertemplate\":\"Client Name= Client9     \\u003cbr\\u003eReporting Date=%{x}\\u003cbr\\u003eBalance Outstanding=%{y}\\u003cextra\\u003e\\u003c\\u002fextra\\u003e\",\"legendgroup\":\" Client9     \",\"line\":{\"color\":\"#ab63fa\",\"dash\":\"solid\"},\"marker\":{\"symbol\":\"circle\"},\"mode\":\"lines\",\"name\":\" Client9     \",\"orientation\":\"v\",\"showlegend\":true,\"x\":[\"2022-09-30T00:00:00\",\"2023-07-31T00:00:00\",\"2024-05-31T00:00:00\",\"2025-03-31T00:00:00\",\"2026-01-31T00:00:00\"],\"xaxis\":\"x\",\"y\":[9000,19000,29000,39000,49000],\"yaxis\":\"y\",\"type\":\"scatter\"},{\"hovertemplate\":\"Client Name= Client3     \\u003cbr\\u003eReporting Date=%{x}\\u003cbr\\u003eBalance Outstanding=%{y}\\u003cextra\\u003e\\u003c\\u002fextra\\u003e\",\"legendgroup\":\" Client3     \",\"line\":{\"color\":\"#FFA15A\",\"dash\":\"solid\"},\"marker\":{\"symbol\":\"circle\"},\"mode\":\"lines\",\"name\":\" Client3     \",\"orientation\":\"v\",\"showlegend\":true,\"x\":[\"2022-03-31T00:00:00\",\"2023-01-31T00:00:00\",\"2023-11-30T00:00:00\",\"2024-09-30T00:00:00\",\"2025-07-31T00:00:00\"],\"xaxis\":\"x\",\"y\":[3000,13000,23000,33000,43000],\"yaxis\":\"y\",\"type\":\"scatter\"},{\"hovertemplate\":\"Client Name= Client8     \\u003cbr\\u003eReporting Date=%{x}\\u003cbr\\u003eBalance Outstanding=%{y}\\u003cextra\\u003e\\u003c\\u002fextra\\u003e\",\"legendgroup\":\" Client8     \",\"line\":{\"color\":\"#19d3f3\",\"dash\":\"solid\"},\"marker\":{\"symbol\":\"circle\"},\"mode\":\"lines\",\"name\":\" Client8     \",\"orientation\":\"v\",\"showlegend\":true,\"x\":[\"2022-08-31T00:00:00\",\"2023-06-30T00:00:00\",\"2024-04-30T00:00:00\",\"2025-02-28T00:00:00\",\"2025-12-31T00:00:00\"],\"xaxis\":\"x\",\"y\":[8000,18000,28000,38000,48000],\"yaxis\":\"y\",\"type\":\"scatter\"},{\"hovertemplate\":\"Client Name= Client2     \\u003cbr\\u003eReporting Date=%{x}\\u003cbr\\u003eBalance Outstanding=%{y}\\u003cextra\\u003e\\u003c\\u002fextra\\u003e\",\"legendgroup\":\" Client2     \",\"line\":{\"color\":\"#FF6692\",\"dash\":\"solid\"},\"marker\":{\"symbol\":\"circle\"},\"mode\":\"lines\",\"name\":\" Client2     \",\"orientation\":\"v\",\"showlegend\":true,\"x\":[\"2022-02-28T00:00:00\",\"2022-12-31T00:00:00\",\"2023-10-31T00:00:00\",\"2024-08-31T00:00:00\",\"2025-06-30T00:00:00\"],\"xaxis\":\"x\",\"y\":[2000,12000,22000,32000,42000],\"yaxis\":\"y\",\"type\":\"scatter\"},{\"hovertemplate\":\"Client Name= Client7     \\u003cbr\\u003eReporting Date=%{x}\\u003cbr\\u003eBalance Outstanding=%{y}\\u003cextra\\u003e\\u003c\\u002fextra\\u003e\",\"legendgroup\":\" Client7     \",\"line\":{\"color\":\"#B6E880\",\"dash\":\"solid\"},\"marker\":{\"symbol\":\"circle\"},\"mode\":\"lines\",\"name\":\" Client7     \",\"orientation\":\"v\",\"showlegend\":true,\"x\":[\"2022-07-31T00:00:00\",\"2023-05-31T00:00:00\",\"2024-03-31T00:00:00\",\"2025-01-31T00:00:00\",\"2025-11-30T00:00:00\"],\"xaxis\":\"x\",\"y\":[7000,17000,27000,37000,47000],\"yaxis\":\"y\",\"type\":\"scatter\"},{\"hovertemplate\":\"Client Name= Client1     \\u003cbr\\u003eReporting Date=%{x}\\u003cbr\\u003eBalance Outstanding=%{y}\\u003cextra\\u003e\\u003c\\u002fextra\\u003e\",\"legendgroup\":\" Client1     \",\"line\":{\"color\":\"#FF97FF\",\"dash\":\"solid\"},\"marker\":{\"symbol\":\"circle\"},\"mode\":\"lines\",\"name\":\" Client1     \",\"orientation\":\"v\",\"showlegend\":true,\"x\":[\"2022-01-31T00:00:00\",\"2022-11-30T00:00:00\",\"2023-09-30T00:00:00\",\"2024-07-31T00:00:00\",\"2025-05-31T00:00:00\"],\"xaxis\":\"x\",\"y\":[1000,11000,21000,31000,41000],\"yaxis\":\"y\",\"type\":\"scatter\"},{\"hovertemplate\":\"Client Name= Client6     \\u003cbr\\u003eReporting Date=%{x}\\u003cbr\\u003eBalance Outstanding=%{y}\\u003cextra\\u003e\\u003c\\u002fextra\\u003e\",\"legendgroup\":\" Client6     \",\"line\":{\"color\":\"#FECB52\",\"dash\":\"solid\"},\"marker\":{\"symbol\":\"circle\"},\"mode\":\"lines\",\"name\":\" Client6     \",\"orientation\":\"v\",\"showlegend\":true,\"x\":[\"2022-06-30T00:00:00\",\"2023-04-30T00:00:00\",\"2024-02-29T00:00:00\",\"2024-12-31T00:00:00\",\"2025-10-31T00:00:00\"],\"xaxis\":\"x\",\"y\":[6000,16000,26000,36000,46000],\"yaxis\":\"y\",\"type\":\"scatter\"}],                        {\"template\":{\"data\":{\"histogram2dcontour\":[{\"type\":\"histogram2dcontour\",\"colorbar\":{\"outlinewidth\":0,\"ticks\":\"\"},\"colorscale\":[[0.0,\"#0d0887\"],[0.1111111111111111,\"#46039f\"],[0.2222222222222222,\"#7201a8\"],[0.3333333333333333,\"#9c179e\"],[0.4444444444444444,\"#bd3786\"],[0.5555555555555556,\"#d8576b\"],[0.6666666666666666,\"#ed7953\"],[0.7777777777777778,\"#fb9f3a\"],[0.8888888888888888,\"#fdca26\"],[1.0,\"#f0f921\"]]}],\"choropleth\":[{\"type\":\"choropleth\",\"colorbar\":{\"outlinewidth\":0,\"ticks\":\"\"}}],\"histogram2d\":[{\"type\":\"histogram2d\",\"colorbar\":{\"outlinewidth\":0,\"ticks\":\"\"},\"colorscale\":[[0.0,\"#0d0887\"],[0.1111111111111111,\"#46039f\"],[0.2222222222222222,\"#7201a8\"],[0.3333333333333333,\"#9c179e\"],[0.4444444444444444,\"#bd3786\"],[0.5555555555555556,\"#d8576b\"],[0.6666666666666666,\"#ed7953\"],[0.7777777777777778,\"#fb9f3a\"],[0.8888888888888888,\"#fdca26\"],[1.0,\"#f0f921\"]]}],\"heatmap\":[{\"type\":\"heatmap\",\"colorbar\":{\"outlinewidth\":0,\"ticks\":\"\"},\"colorscale\":[[0.0,\"#0d0887\"],[0.1111111111111111,\"#46039f\"],[0.2222222222222222,\"#7201a8\"],[0.3333333333333333,\"#9c179e\"],[0.4444444444444444,\"#bd3786\"],[0.5555555555555556,\"#d8576b\"],[0.6666666666666666,\"#ed7953\"],[0.7777777777777778,\"#fb9f3a\"],[0.8888888888888888,\"#fdca26\"],[1.0,\"#f0f921\"]]}],\"heatmapgl\":[{\"type\":\"heatmapgl\",\"colorbar\":{\"outlinewidth\":0,\"ticks\":\"\"},\"colorscale\":[[0.0,\"#0d0887\"],[0.1111111111111111,\"#46039f\"],[0.2222222222222222,\"#7201a8\"],[0.3333333333333333,\"#9c179e\"],[0.4444444444444444,\"#bd3786\"],[0.5555555555555556,\"#d8576b\"],[0.6666666666666666,\"#ed7953\"],[0.7777777777777778,\"#fb9f3a\"],[0.8888888888888888,\"#fdca26\"],[1.0,\"#f0f921\"]]}],\"contourcarpet\":[{\"type\":\"contourcarpet\",\"colorbar\":{\"outlinewidth\":0,\"ticks\":\"\"}}],\"contour\":[{\"type\":\"contour\",\"colorbar\":{\"outlinewidth\":0,\"ticks\":\"\"},\"colorscale\":[[0.0,\"#0d0887\"],[0.1111111111111111,\"#46039f\"],[0.2222222222222222,\"#7201a8\"],[0.3333333333333333,\"#9c179e\"],[0.4444444444444444,\"#bd3786\"],[0.5555555555555556,\"#d8576b\"],[0.6666666666666666,\"#ed7953\"],[0.7777777777777778,\"#fb9f3a\"],[0.8888888888888888,\"#fdca26\"],[1.0,\"#f0f921\"]]}],\"surface\":[{\"type\":\"surface\",\"colorbar\":{\"outlinewidth\":0,\"ticks\":\"\"},\"colorscale\":[[0.0,\"#0d0887\"],[0.1111111111111111,\"#46039f\"],[0.2222222222222222,\"#7201a8\"],[0.3333333333333333,\"#9c179e\"],[0.4444444444444444,\"#bd3786\"],[0.5555555555555556,\"#d8576b\"],[0.6666666666666666,\"#ed7953\"],[0.7777777777777778,\"#fb9f3a\"],[0.8888888888888888,\"#fdca26\"],[1.0,\"#f0f921\"]]}],\"mesh3d\":[{\"type\":\"mesh3d\",\"colorbar\":{\"outlinewidth\":0,\"ticks\":\"\"}}],\"scatter\":[{\"fillpattern\":{\"fillmode\":\"overlay\",\"size\":10,\"solidity\":0.2},\"type\":\"scatter\"}],\"parcoords\":[{\"type\":\"parcoords\",\"line\":{\"colorbar\":{\"outlinewidth\":0,\"ticks\":\"\"}}}],\"scatterpolargl\":[{\"type\":\"scatterpolargl\",\"marker\":{\"colorbar\":{\"outlinewidth\":0,\"ticks\":\"\"}}}],\"bar\":[{\"error_x\":{\"color\":\"#2a3f5f\"},\"error_y\":{\"color\":\"#2a3f5f\"},\"marker\":{\"line\":{\"color\":\"#E5ECF6\",\"width\":0.5},\"pattern\":{\"fillmode\":\"overlay\",\"size\":10,\"solidity\":0.2}},\"type\":\"bar\"}],\"scattergeo\":[{\"type\":\"scattergeo\",\"marker\":{\"colorbar\":{\"outlinewidth\":0,\"ticks\":\"\"}}}],\"scatterpolar\":[{\"type\":\"scatterpolar\",\"marker\":{\"colorbar\":{\"outlinewidth\":0,\"ticks\":\"\"}}}],\"histogram\":[{\"marker\":{\"pattern\":{\"fillmode\":\"overlay\",\"size\":10,\"solidity\":0.2}},\"type\":\"histogram\"}],\"scattergl\":[{\"type\":\"scattergl\",\"marker\":{\"colorbar\":{\"outlinewidth\":0,\"ticks\":\"\"}}}],\"scatter3d\":[{\"type\":\"scatter3d\",\"line\":{\"colorbar\":{\"outlinewidth\":0,\"ticks\":\"\"}},\"marker\":{\"colorbar\":{\"outlinewidth\":0,\"ticks\":\"\"}}}],\"scattermapbox\":[{\"type\":\"scattermapbox\",\"marker\":{\"colorbar\":{\"outlinewidth\":0,\"ticks\":\"\"}}}],\"scatterternary\":[{\"type\":\"scatterternary\",\"marker\":{\"colorbar\":{\"outlinewidth\":0,\"ticks\":\"\"}}}],\"scattercarpet\":[{\"type\":\"scattercarpet\",\"marker\":{\"colorbar\":{\"outlinewidth\":0,\"ticks\":\"\"}}}],\"carpet\":[{\"aaxis\":{\"endlinecolor\":\"#2a3f5f\",\"gridcolor\":\"white\",\"linecolor\":\"white\",\"minorgridcolor\":\"white\",\"startlinecolor\":\"#2a3f5f\"},\"baxis\":{\"endlinecolor\":\"#2a3f5f\",\"gridcolor\":\"white\",\"linecolor\":\"white\",\"minorgridcolor\":\"white\",\"startlinecolor\":\"#2a3f5f\"},\"type\":\"carpet\"}],\"table\":[{\"cells\":{\"fill\":{\"color\":\"#EBF0F8\"},\"line\":{\"color\":\"white\"}},\"header\":{\"fill\":{\"color\":\"#C8D4E3\"},\"line\":{\"color\":\"white\"}},\"type\":\"table\"}],\"barpolar\":[{\"marker\":{\"line\":{\"color\":\"#E5ECF6\",\"width\":0.5},\"pattern\":{\"fillmode\":\"overlay\",\"size\":10,\"solidity\":0.2}},\"type\":\"barpolar\"}],\"pie\":[{\"automargin\":true,\"type\":\"pie\"}]},\"layout\":{\"autotypenumbers\":\"strict\",\"colorway\":[\"#636efa\",\"#EF553B\",\"#00cc96\",\"#ab63fa\",\"#FFA15A\",\"#19d3f3\",\"#FF6692\",\"#B6E880\",\"#FF97FF\",\"#FECB52\"],\"font\":{\"color\":\"#2a3f5f\"},\"hovermode\":\"closest\",\"hoverlabel\":{\"align\":\"left\"},\"paper_bgcolor\":\"white\",\"plot_bgcolor\":\"#E5ECF6\",\"polar\":{\"bgcolor\":\"#E5ECF6\",\"angularaxis\":{\"gridcolor\":\"white\",\"linecolor\":\"white\",\"ticks\":\"\"},\"radialaxis\":{\"gridcolor\":\"white\",\"linecolor\":\"white\",\"ticks\":\"\"}},\"ternary\":{\"bgcolor\":\"#E5ECF6\",\"aaxis\":{\"gridcolor\":\"white\",\"linecolor\":\"white\",\"ticks\":\"\"},\"baxis\":{\"gridcolor\":\"white\",\"linecolor\":\"white\",\"ticks\":\"\"},\"caxis\":{\"gridcolor\":\"white\",\"linecolor\":\"white\",\"ticks\":\"\"}},\"coloraxis\":{\"colorbar\":{\"outlinewidth\":0,\"ticks\":\"\"}},\"colorscale\":{\"sequential\":[[0.0,\"#0d0887\"],[0.1111111111111111,\"#46039f\"],[0.2222222222222222,\"#7201a8\"],[0.3333333333333333,\"#9c179e\"],[0.4444444444444444,\"#bd3786\"],[0.5555555555555556,\"#d8576b\"],[0.6666666666666666,\"#ed7953\"],[0.7777777777777778,\"#fb9f3a\"],[0.8888888888888888,\"#fdca26\"],[1.0,\"#f0f921\"]],\"sequentialminus\":[[0.0,\"#0d0887\"],[0.1111111111111111,\"#46039f\"],[0.2222222222222222,\"#7201a8\"],[0.3333333333333333,\"#9c179e\"],[0.4444444444444444,\"#bd3786\"],[0.5555555555555556,\"#d8576b\"],[0.6666666666666666,\"#ed7953\"],[0.7777777777777778,\"#fb9f3a\"],[0.8888888888888888,\"#fdca26\"],[1.0,\"#f0f921\"]],\"diverging\":[[0,\"#8e0152\"],[0.1,\"#c51b7d\"],[0.2,\"#de77ae\"],[0.3,\"#f1b6da\"],[0.4,\"#fde0ef\"],[0.5,\"#f7f7f7\"],[0.6,\"#e6f5d0\"],[0.7,\"#b8e186\"],[0.8,\"#7fbc41\"],[0.9,\"#4d9221\"],[1,\"#276419\"]]},\"xaxis\":{\"gridcolor\":\"white\",\"linecolor\":\"white\",\"ticks\":\"\",\"title\":{\"standoff\":15},\"zerolinecolor\":\"white\",\"automargin\":true,\"zerolinewidth\":2},\"yaxis\":{\"gridcolor\":\"white\",\"linecolor\":\"white\",\"ticks\":\"\",\"title\":{\"standoff\":15},\"zerolinecolor\":\"white\",\"automargin\":true,\"zerolinewidth\":2},\"scene\":{\"xaxis\":{\"backgroundcolor\":\"#E5ECF6\",\"gridcolor\":\"white\",\"linecolor\":\"white\",\"showbackground\":true,\"ticks\":\"\",\"zerolinecolor\":\"white\",\"gridwidth\":2},\"yaxis\":{\"backgroundcolor\":\"#E5ECF6\",\"gridcolor\":\"white\",\"linecolor\":\"white\",\"showbackground\":true,\"ticks\":\"\",\"zerolinecolor\":\"white\",\"gridwidth\":2},\"zaxis\":{\"backgroundcolor\":\"#E5ECF6\",\"gridcolor\":\"white\",\"linecolor\":\"white\",\"showbackground\":true,\"ticks\":\"\",\"zerolinecolor\":\"white\",\"gridwidth\":2}},\"shapedefaults\":{\"line\":{\"color\":\"#2a3f5f\"}},\"annotationdefaults\":{\"arrowcolor\":\"#2a3f5f\",\"arrowhead\":0,\"arrowwidth\":1},\"geo\":{\"bgcolor\":\"white\",\"landcolor\":\"#E5ECF6\",\"subunitcolor\":\"white\",\"showland\":true,\"showlakes\":true,\"lakecolor\":\"white\"},\"title\":{\"x\":0.05},\"mapbox\":{\"style\":\"light\"}}},\"xaxis\":{\"anchor\":\"y\",\"domain\":[0.0,1.0],\"title\":{\"text\":\"Reporting Date\"}},\"yaxis\":{\"anchor\":\"x\",\"domain\":[0.0,1.0],\"title\":{\"text\":\"Balance Outstanding\"}},\"legend\":{\"title\":{\"text\":\"Client Name\"},\"tracegroupgap\":0},\"title\":{\"text\":\"Top 5 Clients with Highest Balances Over Time\"}},                        {\"responsive\": true}                    ).then(function(){\n",
              "                            \n",
              "var gd = document.getElementById('11ca5d86-f6f6-4c0b-950d-ab1c30d6a16e');\n",
              "var x = new MutationObserver(function (mutations, observer) {{\n",
              "        var display = window.getComputedStyle(gd).display;\n",
              "        if (!display || display === 'none') {{\n",
              "            console.log([gd, 'removed!']);\n",
              "            Plotly.purge(gd);\n",
              "            observer.disconnect();\n",
              "        }}\n",
              "}});\n",
              "\n",
              "// Listen for the removal of the full notebook cells\n",
              "var notebookContainer = gd.closest('#notebook-container');\n",
              "if (notebookContainer) {{\n",
              "    x.observe(notebookContainer, {childList: true});\n",
              "}}\n",
              "\n",
              "// Listen for the clearing of the current output cell\n",
              "var outputEl = gd.closest('.output');\n",
              "if (outputEl) {{\n",
              "    x.observe(outputEl, {childList: true});\n",
              "}}\n",
              "\n",
              "                        })                };                            </script>        </div>\n",
              "</body>\n",
              "</html>"
            ]
          },
          "metadata": {}
        }
      ]
    }
  ]
}